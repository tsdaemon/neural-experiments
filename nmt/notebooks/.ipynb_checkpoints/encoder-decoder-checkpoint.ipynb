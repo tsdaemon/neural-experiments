{
 "cells": [
  {
   "cell_type": "markdown",
   "metadata": {},
   "source": [
    "*Recently I did a [workshop about Deep Learning for Natural Language Processing](https://github.com/tsdaemon/dl-nlp-2018).\n",
    "Clearly, 3 days was not enough to cover all topics in this broad field, therefore\n",
    "I decided to create a series of practical tutorials about Neural Machine Translation\n",
    "in [PyTorch](https://pytorch.org/). In this series, I will start with a simple neural\n",
    "translation model and gradually improve it using\n",
    "modern neural methods and techniques. In the first tutorial, I will create\n",
    "Ukrainian-German translator using an encoder-decoder model.*"
   ]
  },
  {
   "cell_type": "markdown",
   "metadata": {},
   "source": [
    "# Introduction\n",
    "\n",
    "For almost 25 years, mainstream translation systems used *[Statistical Machine Translation](https://en.wikipedia.org/wiki/Statistical_machine_translation)*. SMT\n",
    "methods were not outperformed **until 2016 when Google AI released [results of their Neural Machine Translation model](https://ai.googleblog.com/2016/09/a-neural-network-for-machine.html)**\n",
    "and started to use it in Google Translation for 9 languages.\n",
    "\n",
    "Important to notice, that GNMT result was mostly defined by **a huge amount of training data and\n",
    "extensive computational power**, which makes impossible to reproduce this results for\n",
    "individual researchers. However, ideas and techniques, which were used in this architecture,\n",
    "were reused to solve **many other problems**: *question answering, natural database interface,\n",
    "speech-to-text and text-to-speech* and so on. Therefore, any deep learning expert\n",
    "can benefit from an understanding of how modern NMT works."
   ]
  },
  {
   "cell_type": "markdown",
   "metadata": {},
   "source": [
    "# Theory\n",
    "\n",
    "Even though I am mostly a practitioner but I still prefer to have a solid\n",
    "mathematical representation of any model I am working with. This allows maintaining\n",
    "**a correct level of abstract understanding** of a problem which my model is solving.\n",
    "You can skip this part and go to a [model definition](#model) if you prefer to start coding.\n",
    "But I advise you to review the theoretical part to have a deep understanding of\n",
    "the following implementation.\n",
    "\n",
    "  >Given a sentence in *source language* $\\textbf{x}$, the task is to infer a\n",
    "  sentence in *target language* $\\textbf{y}$ which maximizes conditional\n",
    "  probability $p(\\textbf{y}|\\textbf{x})$:\n",
    "\n",
    "  \\begin{equation}\n",
    "  \\textbf{y} = \\underset{\\hat{\\textbf{y}}}{\\mathrm{argmax}} p(\\hat{\\textbf{y}}|\\textbf{x})\n",
    "  \\end{equation}\n",
    "\n",
    "This equation can not be used as is: there are **an infinite number of all possible\n",
    "$\\hat{\\textbf{y}}$**. But since a sentence $\\textbf{y}$ is a sequence of words $y_1, y_2, \\ldots ,y_{t-1}, y_t$,\n",
    "this probability can be decomposed as a product of probabilities for each word:\n",
    "\n",
    "  \\begin{equation}\n",
    "  p(\\textbf{y}|\\textbf{x}) = \\prod_{i=1}^{t} p(y_i| \\textbf{x})\n",
    "  \\end{equation}\n",
    "\n",
    "Words probabilities in $\\textbf{y}$ are not distributed independently; in the natural\n",
    "language phrases and sentences are usually **follow strict or non-strict rules for word selection**. Therefore,\n",
    "*conditional probability* for each word should also include other words from *a target sentence*:\n",
    "\n",
    "  \\begin{equation}\n",
    "  p(\\textbf{y}|\\textbf{x}) = \\prod_{i=1}^{t} p(y_i|y_{t}, y_{t-1}, \\ldots, y_{i+1}, y_{i-1}, \\ldots, y_{2}, y_{1}, \\textbf{x})\\label{xy}\n",
    "  \\end{equation}\n",
    "\n",
    "Using a predefined set of words or *vocabulary* $\\textbf{V}$ we can infer from it\n",
    "the target sentence $\\textbf{y}$ word by word using this probability: $p(y_i|y_{j\\ne i}, \\textbf{x})$.\n",
    "The only question is: how to get this probability? And it can be **approximated with a neural model**.\n",
    "\n",
    ">Let's denote weights of neural model as $\\theta$ and training data as a set of\n",
    "tuples $(\\textbf{y}^{(x)}, \\textbf{x})$, where each $\\textbf{y}^{(x)}$ is a correct\n",
    "translation of $\\textbf{x}$. Optimal values of $\\theta$ can be found by maximization\n",
    "of a following equation:\n",
    "\n",
    "  \\begin{equation}\n",
    "  \\theta = \\underset{\\theta}{\\mathrm{argmax}} \\sum_{\\textbf{y}^{(x)}, \\textbf{x}} log \\\\ p(\\textbf{y}^{(x)}| \\textbf{x}; \\theta)\n",
    "  \\label{mle}\n",
    "  \\end{equation}\n",
    "\n",
    "\\ref{mle} is basically a *[log-likelihood](http://mathworld.wolfram.com/Log-LikelihoodFunction.html)* for a training data.\n",
    "*Likelihood maximization* means that we train a neural network **to produce probabilities**, which makes training set $(\\textbf{y}^{(x)}, \\textbf{x})$ results more likely than any other results."
   ]
  },
  {
   "cell_type": "markdown",
   "metadata": {},
   "source": [
    "# Model\n",
    "\n",
    "From equation \\ref{xy} you can see, how should be connected information inside of a neural model for machine translation.\n",
    "To infer a word $y_i$ you need to provide the model with data about previous words $y_{<i}$ (since you\n",
    "don't have next words at the moment when you infer $y_i$, you can only use previous words) and information about *a source sentence*\n",
    "$\\textbf{x}$.\n",
    "\n",
    "The source sentence is encoded word for word by a [*Recurrent Neural Network*](https://en.wikipedia.org/wiki/Recurrent_neural_network), which is called *Encoder*. Then **the last hidden state of the Encoder is used as the first hidden state** of another RNN[^bengio2014]. This network decodes a target sentence word for word, and this network is obviously called *Decoder*. This way a shared hidden state between Encoder and Decoder is used to store **all the information the Decoder need** to produce a valid probability distribution for $y_i$[^thought].\n",
    "\n",
    "[^thought]: This vector is called \"thought vector\" or \"sentence vector\" and this solution clearly has some drawbacks. I will present more complex technique to share information between encoder and decoder in a following tutorial.\n",
    "\n",
    "[^bengio2014]: [Bahdanau et al, 2014](https://arxiv.org/abs/1409.0473)\n",
    "\n",
    "![Encoder-decoder](/assets/images/nmt/Seq2Seq-thought-vector.png){:width=\"800px\"}\n",
    "*Encoder-Decoder with a thought vector*"
   ]
  },
  {
   "cell_type": "markdown",
   "metadata": {},
   "source": [
    "# Implementation\n",
    "\n",
    "## Data preparation\n",
    "\n",
    "For this tutorial I used **bilingual datasets** from [tatoeba.org](https://tatoeba.org/eng/downloads).\n",
    "You can download language pairs data from http://www.manythings.org/anki/, or if there is no pair (as for Ukrainian-German), you can use my script [get_dataset.py](https://github.com/tsdaemon/neural-experiments/blob/master/nmt/scripts/get_dataset.py). It downloads raw data from tatoeba and extracts a bilingual dataset as a `csv` file."
   ]
  },
  {
   "cell_type": "code",
   "execution_count": 1,
   "metadata": {
    "collapsed": true
   },
   "outputs": [],
   "source": [
    "import pandas as pd\n",
    "import os\n",
    "\n",
    "source_lang = 'ukr'\n",
    "target_lang = 'deu'\n",
    "data_dir = 'data/'\n",
    "\n",
    "os.chdir('../')\n",
    "corpus = pd.read_csv(os.path.join(data_dir, '{}-{}.csv'.format(source_lang, target_lang)), delimiter='\\t')"
   ]
  },
  {
   "cell_type": "markdown",
   "metadata": {},
   "source": [
    "To train a neural network I need to turn the sentences into something **a neural network can understand**, which of course means numbers. Each sentence is split into words and turned into a sequence of numbers. To do this, I used a vocabulary – a class which stores word indexes.  "
   ]
  },
  {
   "cell_type": "code",
   "execution_count": 2,
   "metadata": {
    "collapsed": true
   },
   "outputs": [],
   "source": [
    "SOS_token = '<start>'\n",
    "EOS_token = '<end>'\n",
    "UNK_token = '<unk>'\n",
    "PAD_token = '<pad>'\n",
    "\n",
    "SOS_idx = 0\n",
    "EOS_idx = 1\n",
    "UNK_idx = 2\n",
    "PAD_idx = 3\n",
    "\n",
    "class Vocab:\n",
    "    def __init__(self):\n",
    "        self.index2word = {\n",
    "            SOS_idx: SOS_token,\n",
    "            EOS_idx: EOS_token,\n",
    "            UNK_idx: UNK_token,\n",
    "            PAD_idx: PAD_token\n",
    "        }\n",
    "        self.word2index = {v: k for k, v in self.index2word.items()}\n",
    "\n",
    "    def index_words(self, words):\n",
    "        for word in words:\n",
    "            self.index_word(word)\n",
    "\n",
    "    def index_word(self, word):\n",
    "        if word not in self.word2index:\n",
    "            n_words = len(self)\n",
    "            self.word2index[word] = n_words\n",
    "            self.index2word[n_words] = word\n",
    "\n",
    "    def __len__(self):\n",
    "        assert len(self.index2word) == len(self.word2index)\n",
    "        return len(self.index2word)\n",
    "    \n",
    "    def unidex_words(self, indices):\n",
    "        return [self.index2word[i] for i in indices]\n",
    "    \n",
    "    def to_file(self, filename):\n",
    "        values = [w for w, k in sorted(list(self.word2index.items())[5:])]\n",
    "        with open(filename, 'w') as f:\n",
    "            f.write('\\n'.join(values))\n",
    "\n",
    "    @classmethod\n",
    "    def from_file(cls, filename):\n",
    "        vocab = Vocab()\n",
    "        with open(filename, 'r') as f:\n",
    "            words = [l.strip() for l in f.readlines()]\n",
    "            vocab.index_words(words)"
   ]
  },
  {
   "cell_type": "markdown",
   "metadata": {},
   "source": [
    "Here I defined tokenizer functions for Ukrainian and German to **split sentences into words**.\n",
    "I used a standard [`nltk.tokenize.WordPunctTokenizer`](https://kite.com/python/docs/nltk.tokenize.WordPunctTokenizer) for German and\n",
    "a function `tokenize_words` from package [`tokenize_uk`](https://github.com/lang-uk/tokenize-uk) for Ukrainian.\n",
    "\n",
    "Since there are a lot of example sentences and I want to train something quickly, I trimmed the data set to only **relatively short and simple** sentences. Here the maximum length is 10 words (that includes punctuation).\n",
    "\n",
    "Additionally, you might want to filter out rare words which occur only a few times in the corpus. This words could not be learned efficiently since **there are not enough training examples for them**. This will reduce vocabulary size and decrease training time."
   ]
  },
  {
   "cell_type": "code",
   "execution_count": 3,
   "metadata": {},
   "outputs": [
    {
     "name": "stdout",
     "output_type": "stream",
     "text": [
      "Corpus length: 14044\n",
      "Source vocabulary size: 8497\n",
      "Target vocabulary size: 6138\n",
      "Source: \"апельсини ростуть в теплих країнах .\", target: \"apfelsinen wachsen in warmen ländern .\"\n",
      "Source: \"араби мене переслідують .\", target: \"araber verfolgen mich .\"\n",
      "Source: \"арбітр закінчить гру за дві хвилини .\", target: \"der schiedsrichter wird das spiel in zwei minuten beenden .\"\n",
      "Source: \"астронавти полетіли на місяць в ракеті .\", target: \"die astronauten flogen mit einer rakete zum mond .\"\n",
      "Source: \"африка є колискою людства .\", target: \"afrika ist die wiege der menschheit .\"\n",
      "Source: \"африка — не країна .\", target: \"afrika ist kein land .\"\n",
      "Source: \"афіни — столиця греції .\", target: \"athen ist die hauptstadt griechenlands .\"\n",
      "Source: \"афіни — столиця греції .\", target: \"athen ist die hauptstadt von griechenland .\"\n",
      "Source: \"бабусі подобається дивитися телевізор .\", target: \"oma schaut gerne fernsehen .\"\n",
      "Source: \"багато американців цікавляться джазом .\", target: \"viele amerikaner interessieren sich für jazz .\"\n"
     ]
    }
   ],
   "source": [
    "import nltk\n",
    "from tokenize_uk import tokenize_words\n",
    "import pandas as pd\n",
    "\n",
    "max_length = 10\n",
    "min_word_count = 1\n",
    "\n",
    "tokenizers = {\n",
    "    'ukr': tokenize_words,\n",
    "    'deu': nltk.tokenize.WordPunctTokenizer().tokenize\n",
    "}\n",
    "\n",
    "def preprocess_corpus(sents, tokenizer, min_word_count):\n",
    "    n_words = {}\n",
    "\n",
    "    sents_tokenized = []\n",
    "    for sent in sents:\n",
    "        sent_tokenized = [w.lower() for w in tokenizer(sent)]\n",
    "\n",
    "        sents_tokenized.append(sent_tokenized)\n",
    "\n",
    "        for word in sent_tokenized:\n",
    "            if word in n_words:\n",
    "                n_words[word] += 1\n",
    "            else:\n",
    "                n_words[word] = 1\n",
    "\n",
    "    for i, sent_tokenized in enumerate(sents_tokenized):\n",
    "        sent_tokenized = [t if n_words[t] >= min_word_count else UNK_token for t in sent_tokenized]\n",
    "        sents_tokenized[i] = sent_tokenized\n",
    "\n",
    "    return sents_tokenized\n",
    "\n",
    "def read_vocab(sents):\n",
    "    vocab = Vocab()\n",
    "    for sent in sents:\n",
    "        vocab.index_words(sent)\n",
    "\n",
    "    return vocab\n",
    "\n",
    "source_sents = preprocess_corpus(corpus['text' + source_lang], tokenizers[source_lang], min_word_count)\n",
    "target_sents = preprocess_corpus(corpus['text' + target_lang], tokenizers[target_lang], min_word_count)\n",
    "\n",
    "# Using set to remove duplicates\n",
    "source_sents, target_sents = zip(\n",
    "    *sorted({(tuple(s), tuple(t)) for s, t in zip(source_sents, target_sents)\n",
    "              if len(s) <= max_length and len(t) <= max_length})\n",
    ")\n",
    "\n",
    "source_vocab = read_vocab(source_sents)\n",
    "target_vocab = read_vocab(target_sents)\n",
    "\n",
    "target_vocab.to_file(os.path.join(data_dir, '{}.vocab.txt'.format(target_lang)))\n",
    "source_vocab.to_file(os.path.join(data_dir, '{}.vocab.txt'.format(source_lang)))\n",
    "\n",
    "print('Corpus length: {}\\nSource vocabulary size: {}\\nTarget vocabulary size: {}'.format(\n",
    "    len(source_sents), len(source_vocab.word2index), len(target_vocab.word2index)\n",
    "))\n",
    "examples = list(zip(source_sents, target_sents))[80:90]\n",
    "for source, target in examples:\n",
    "    print('Source: \"{}\", target: \"{}\"'.format(' '.join(source), ' '.join(target)))"
   ]
  },
  {
   "cell_type": "markdown",
   "metadata": {},
   "source": [
    "As you can see, some translation pairs can duplicate each other: **one source sentence might have multiple target references**. This naturally happens in language, we always have options for translation. And this should be considered when we train NMT system: that it is possible to have more than one option of a correct model output.\n",
    "\n",
    "Translation quality metrics like *[BLEU](https://en.wikipedia.org/wiki/BLEU)*[^bleu] (it will be described in details later) are designed to use **multiple references of a correct translation**. To take this into account during evaluation I combined pairs with an identical source into one pair with one source and multiple targets.\n",
    "\n",
    "[^bleu]: [Papineni et al, 2002](http://aclweb.org/anthology/P/P02/P02-1040.pdf)"
   ]
  },
  {
   "cell_type": "code",
   "execution_count": 4,
   "metadata": {},
   "outputs": [
    {
     "data": {
      "text/plain": [
       "11967"
      ]
     },
     "execution_count": 4,
     "metadata": {},
     "output_type": "execute_result"
    }
   ],
   "source": [
    "source_to_target = {}\n",
    "for source, target in zip(source_sents, target_sents):\n",
    "    if source in source_to_target:\n",
    "        source_to_target[source].append(target)\n",
    "    else:\n",
    "        source_to_target[source] = [target]\n",
    "    \n",
    "source_sents, target_sents = zip(*source_to_target.items())\n",
    "len(source_sents)"
   ]
  },
  {
   "cell_type": "markdown",
   "metadata": {},
   "source": [
    "Data for *deep learning experiment* is usually split into three parts:\n",
    "* *Training data* is used for neural network training;\n",
    "* *Development data* is used to select an optimal training stop point;\n",
    "* *Test data* is used for final evaluation of experiment performance.\n",
    "\n",
    "I used 80% of the data as a training set, 6% of the data as a development set and 14% of the data as a test set."
   ]
  },
  {
   "cell_type": "code",
   "execution_count": 5,
   "metadata": {
    "collapsed": true
   },
   "outputs": [],
   "source": [
    "import numpy as np\n",
    "\n",
    "RANDOM_SEED = 42\n",
    "np.random.seed(RANDOM_SEED)\n",
    "\n",
    "source_length = len(source_sents)\n",
    "inidices = np.random.permutation(source_length)\n",
    "\n",
    "training_indices = inidices[:int(source_length*0.8)]\n",
    "dev_indices = inidices[int(source_length*0.8):int(source_length*0.86)]\n",
    "test_indices = inidices[int(source_length*0.86):]\n",
    "\n",
    "training_source = [source_sents[i] for i in training_indices]\n",
    "dev_source = [source_sents[i] for i in dev_indices]\n",
    "test_source = [source_sents[i] for i in test_indices]\n",
    "\n",
    "training_target = [target_sents[i] for i in training_indices]\n",
    "dev_target = [target_sents[i] for i in dev_indices]\n",
    "test_target = [target_sents[i] for i in test_indices]\n",
    "\n",
    "# Unwrap training examples\n",
    "training_t = []\n",
    "training_s = []\n",
    "for source, tt in zip(training_source, training_target):\n",
    "    for target in tt:\n",
    "        training_t.append(target)\n",
    "        training_s.append(source)\n",
    "        \n",
    "training_source = training_s\n",
    "training_target = training_t"
   ]
  },
  {
   "cell_type": "markdown",
   "metadata": {},
   "source": [
    "PyTorch uses its own format of data – *Tensor*. It is a multi-dimensional array of numbers with some type e.g. FloatTensor or LongTensor.\n",
    "\n",
    "Before I can use the training data, I need to convert it into tensors  **using previously defined word indices**. Also, I need to have source sentences as tensors for model validation with development and test sample.\n",
    "\n",
    "Each sentence in the tensor form **should have special tokens** SOS (start of a sentence) and EOS (end of a sentence) for a model being able to identify sequence start and finish. Also, all sentences should have the same length to make possible the *batch training*, therefore I extended them with a token PAD if needed."
   ]
  },
  {
   "cell_type": "code",
   "execution_count": 6,
   "metadata": {
    "collapsed": true
   },
   "outputs": [],
   "source": [
    "import torch\n",
    "\n",
    "def indexes_from_sentence(vocab, sentence):\n",
    "    return [vocab.word2index[word] for word in sentence]\n",
    "\n",
    "def tensor_from_sentence(vocab, sentence, max_seq_length):\n",
    "    indexes = indexes_from_sentence(vocab, sentence)\n",
    "    indexes.append(EOS_idx)\n",
    "    indexes.insert(0, SOS_idx)\n",
    "    # we need to have all sequences the same length to process them in batches\n",
    "    if len(indexes) < max_seq_length:\n",
    "        indexes += [PAD_idx] * (max_seq_length - len(indexes))\n",
    "    tensor = torch.LongTensor(indexes)\n",
    "    return tensor\n",
    "\n",
    "def tensors_from_pair(source_sent, target_sent, max_seq_length):\n",
    "    source_tensor = tensor_from_sentence(source_vocab, source_sent, max_seq_length).unsqueeze(1)\n",
    "    target_tensor = tensor_from_sentence(target_vocab, target_sent, max_seq_length).unsqueeze(1)\n",
    "    return (source_tensor, target_tensor)\n",
    "\n",
    "max_seq_length = max_length + 2  # 2 for EOS_token and SOS_token\n",
    "\n",
    "training = []\n",
    "for source_sent, target_sent in zip(training_source, training_target):\n",
    "    training.append(tensors_from_pair(source_sent, target_sent, max_seq_length))\n",
    "    \n",
    "x_training, y_training = zip(*training)\n",
    "x_training = torch.transpose(torch.cat(x_training, dim=-1), 1, 0)\n",
    "y_training = torch.transpose(torch.cat(y_training, dim=-1), 1, 0)\n",
    "torch.save(x_training, os.path.join(data_dir, 'x_training.bin'))\n",
    "torch.save(y_training, os.path.join(data_dir, 'y_training.bin'))\n",
    "\n",
    "x_development = []\n",
    "for source_sent in dev_source:\n",
    "    tensor = tensor_from_sentence(source_vocab, source_sent, max_seq_length).unsqueeze(1)\n",
    "    x_development.append(tensor)\n",
    "    \n",
    "x_development = torch.transpose(torch.cat(x_development, dim=-1), 1, 0)\n",
    "torch.save(x_development, os.path.join(data_dir, 'x_development.bin'))\n",
    "\n",
    "x_test = []\n",
    "for source_sent in test_source:\n",
    "    tensor = tensor_from_sentence(source_vocab, source_sent, max_seq_length).unsqueeze(1)\n",
    "    x_test.append(tensor)\n",
    "    \n",
    "x_test = torch.transpose(torch.cat(x_test, dim=-1), 1, 0)\n",
    "torch.save(x_test, os.path.join(data_dir, 'x_test.bin'))\n",
    "\n",
    "USE_CUDA = False\n",
    "if USE_CUDA:\n",
    "    x_training = x_training.cuda()\n",
    "    y_training = y_training.cuda()\n",
    "    x_development = x_development.cuda()\n",
    "    x_test = x_test.cuda()"
   ]
  },
  {
   "cell_type": "markdown",
   "metadata": {},
   "source": [
    "## Encoder\n",
    "\n",
    "The encoder of an Encoder-Decoder network is a [*Recurrent Neural Network*](https://en.wikipedia.org/wiki/Recurrent_neural_network). A recurrent network can **model a sequence of related data** (sentence in our case) using the same set of weights. To do this, RNN uses its output from a previous step as input along with the next input from a sequence.\n",
    "\n",
    "A naive implementation of RNN is subject to **problems with a gradient for long sequences**[^vanishing]; therefore, I used [**Long-Short Term Memory**](https://en.wikipedia.org/wiki/Long_short-term_memory)[^lstm] as a recurrent module. You should not care about its implementation since it already implemented in PyTorch: [nn.LSTM](https://pytorch.org/docs/stable/_modules/torch/nn/modules/rnn.html#LSTM). This module allows *bi-directional sequence processing* out-of-the-box – this allows to capture backward relations in a sentence as well as forward relations.\n",
    "\n",
    "[^vanishing]: Read more on [WildML](http://www.wildml.com/2015/10/recurrent-neural-networks-tutorial-part-3-backpropagation-through-time-and-vanishing-gradients/).\n",
    "\n",
    "Additionally, I used *embeddings module* to convert word indices into dense vectors. This allows projecting discrete symbols (words) into continuous space which **reflects semantical relations in spatial words positions**. For this experiment, I did not use pre-trained word vectors and trained this representation using machine translation supervision signal. But you may use the pre-trained word embeddings for any language[^languk].\n",
    "\n",
    "[^languk]: For Ukrainian use vectors from [lang-uk](http://lang.org.ua/en/models/#anchor4) project. For other languages, I recommend [FastText](https://github.com/facebookresearch/fastText/blob/master/pretrained-vectors.md) embeddings.\n",
    "\n",
    "To not forget the meaning of dimensions for input vectors, I left comments like `# word_inputs: (batch_size, seq_length)`. Above means that variable `word_inputs` contains a reference to a tensor, which has shape `(batch_size, seq_length)`, e.g. it is an array of sequences of length `seq_length`, where array length is `batch_size`.\n",
    "\n",
    "[^lstm]: More information about LSTM can be found in [Colah's blog](http://colah.github.io/posts/2015-08-Understanding-LSTMs/) or in the original paper [Hochreiter and Schmidhuber, 1997](https://www.researchgate.net/publication/13853244_Long_Short-term_Memory)."
   ]
  },
  {
   "cell_type": "code",
   "execution_count": 7,
   "metadata": {
    "collapsed": true
   },
   "outputs": [],
   "source": [
    "import torch.nn as nn\n",
    "import torch.nn.init as init\n",
    "\n",
    "class EncoderRNN(nn.Module):\n",
    "    def __init__(self, vocab_size, hidden_size, n_layers=1):\n",
    "        super(EncoderRNN, self).__init__()\n",
    "        \n",
    "        self.vocab_size = vocab_size\n",
    "        self.hidden_size = hidden_size\n",
    "        self.n_layers = n_layers\n",
    "        \n",
    "        self.embedding = nn.Embedding(vocab_size, hidden_size)\n",
    "        init.normal_(self.embedding.weight, 0.0, 0.2)\n",
    "        \n",
    "        self.lstm = nn.LSTM(\n",
    "            hidden_size, \n",
    "            int(hidden_size/2),  # Bi-directional processing will ouput vectors of double size, therefore I reduced output dimensionality\n",
    "            num_layers=n_layers, \n",
    "            batch_first=True,  # First dimension of input tensor will be treated as a batch dimension\n",
    "            bidirectional=True\n",
    "        )\n",
    "        \n",
    "    # word_inputs: (batch_size, seq_length), h: (h_or_c, layer_n_direction, batch, seq_length)\n",
    "    def forward(self, word_inputs, hidden):         \n",
    "        # embedded (batch_size, seq_length, hidden_size)\n",
    "        embedded = self.embedding(word_inputs) \n",
    "        # output (batch_size, seq_length, hidden_size*directions)\n",
    "        # hidden (h: (num_layers*directions, batch_size, hidden_size),\n",
    "        #         c: (num_layers*directions, batch_size, hidden_size))\n",
    "        output, hidden = self.lstm(embedded, hidden)\n",
    "        return output, hidden\n",
    "\n",
    "    def init_hidden(self, batches):\n",
    "        hidden = torch.zeros(2, self.n_layers*2, batches, int(self.hidden_size/2))\n",
    "        if USE_CUDA: hidden = hidden.cuda()\n",
    "        return hidden"
   ]
  },
  {
   "cell_type": "markdown",
   "metadata": {},
   "source": [
    "## Decoder\n",
    "\n",
    "Decoder module is similar to encoder with the difference in that it **generates a sequence**,\n",
    "instead of modeling it, so it will infer inputs one by one; therefore it cannot be bi-directional."
   ]
  },
  {
   "cell_type": "code",
   "execution_count": 8,
   "metadata": {
    "collapsed": true
   },
   "outputs": [],
   "source": [
    "class DecoderRNN(nn.Module):\n",
    "    def __init__(self, vocab_size, hidden_size, n_layers=1):\n",
    "        super(DecoderRNN, self).__init__()\n",
    "        \n",
    "        self.vocab_size = vocab_size\n",
    "        self.hidden_size = hidden_size\n",
    "        self.n_layers = n_layers\n",
    "        \n",
    "        self.embedding = nn.Embedding(vocab_size, hidden_size)\n",
    "        init.normal_(self.embedding.weight, 0.0, 0.2)\n",
    "        \n",
    "        self.lstm = nn.LSTM(hidden_size, hidden_size, num_layers=n_layers, batch_first=True, bidirectional=False)\n",
    "        \n",
    "    def forward(self, word_inputs, hidden):\n",
    "        # Note: we run this one by one\n",
    "        # embedded (batch_size, 1, hidden_size)\n",
    "        embedded = self.embedding(word_inputs).unsqueeze_(1)\n",
    "        output, hidden = self.lstm(embedded, hidden)\n",
    "        return output, hidden"
   ]
  },
  {
   "cell_type": "markdown",
   "metadata": {},
   "source": [
    "## Test\n",
    "\n",
    "To make sure the Encoder and Decoder models are working (and working together) I did a quick test with fake word inputs:"
   ]
  },
  {
   "cell_type": "code",
   "execution_count": 9,
   "metadata": {},
   "outputs": [
    {
     "name": "stdout",
     "output_type": "stream",
     "text": [
      "EncoderRNN(\n",
      "  (embedding): Embedding(10, 10)\n",
      "  (lstm): LSTM(10, 5, num_layers=2, batch_first=True, bidirectional=True)\n",
      ")\n",
      "torch.Size([1, 3, 10]) torch.Size([4, 1, 5]) torch.Size([4, 1, 5])\n"
     ]
    }
   ],
   "source": [
    "vocab_size = 10\n",
    "hidden_dim = 10\n",
    "n_layers = 2\n",
    "\n",
    "encoder_test = EncoderRNN(vocab_size, hidden_dim, n_layers)\n",
    "print(encoder_test)\n",
    "\n",
    "# Recurrent network requires initial hidden state\n",
    "encoder_hidden = encoder_test.init_hidden(1)\n",
    "\n",
    "# Test input of size (1x3), one sequence of size 3\n",
    "word_input = torch.LongTensor([[1, 2, 3]])\n",
    "\n",
    "if USE_CUDA:\n",
    "    encoder_test.cuda()\n",
    "    word_input = word_input.cuda()\n",
    "\n",
    "encoder_outputs, encoder_hidden = encoder_test(word_input, encoder_hidden)\n",
    "\n",
    "# encoder_outputs: (batch_size, seq_length, hidden_size)\n",
    "# encoder_hidden[0, 1]: (n_layers*2, batch_size, hidden_size/2)\n",
    "print(encoder_outputs.shape, encoder_hidden[0].shape, encoder_hidden[1].shape)"
   ]
  },
  {
   "cell_type": "markdown",
   "metadata": {},
   "source": [
    "`encoder_hidden` is a tuple for h and c components of LSTM *hidden state*. In PyTorch, tensors of LSTM hidden components have the following meaning of dimensions:\n",
    "* First dimension is `n_layers * directions`, meaning that if we have a bi-directional network, **then each layer will store two items in this direction**.\n",
    "* Second dimension is a batch dimension.\n",
    "* Third dimension is a hidden vector itself.\n",
    "\n",
    "The decoder uses a single directional LSTM, therefore we need to reshape encoders `h` and `c` before sending them into decoder: **concatenate all bi-directional vectors into single-direction vectors**. This means, that every two vectors along `n_layers*directions` I combined into a single vector, increasing the size of the hidden vector dimension in two times and decreasing a size of the first dimension to `n_layers`, which is two. \n",
    "\n",
    "It is important to understand, how reshaping is done *(previous version of this article has an error because of incorrect reshape)*. [Torch documentation](https://pytorch.org/docs/stable/torch.html#torch.reshape) is not vocal enough about this question, but you can refer to [Numpy documentation](https://docs.scipy.org/doc/numpy/reference/generated/numpy.reshape.html) for explanation. Basically, default reshape approach (C-order) **starts from changing the last index and steadily moves from latter to starter indexes**. \n",
    "\n",
    "What does it mean for our case? In this example I have the hidden state of endoder LSTM with one batch, two layers and two directions, and 5-dimensional hidden vector. It has a shape `(4,1,5)`. I need to reshape it into an initial hidden state of decoder LSTM, which should has one batch, a single direction and two layers, and 10-dimensional hidden vector, final shape is `(2,1,10)`. To do that with `torch.reshape` **I need to swap an order of dimensions first** to have tensor with shape `(1,4,5)`, reshape it to `(1,2,10)` and then change order back to `(2,1,10)`. If I did this without changing the dimensions order, **values from different batches would be mixed together, and thought vector would not be representation of a source sentence anymore**."
   ]
  },
  {
   "cell_type": "code",
   "execution_count": 10,
   "metadata": {},
   "outputs": [
    {
     "name": "stdout",
     "output_type": "stream",
     "text": [
      "DecoderRNN(\n",
      "  (embedding): Embedding(10, 10)\n",
      "  (lstm): LSTM(10, 10, num_layers=2, batch_first=True)\n",
      ")\n",
      "torch.Size([1, 1, 10]) torch.Size([2, 1, 10]) torch.Size([2, 1, 10])\n",
      "torch.Size([1, 1, 10]) torch.Size([2, 1, 10]) torch.Size([2, 1, 10])\n",
      "torch.Size([1, 1, 10]) torch.Size([2, 1, 10]) torch.Size([2, 1, 10])\n"
     ]
    }
   ],
   "source": [
    "decoder_test = DecoderRNN(vocab_size, hidden_dim, n_layers)\n",
    "print(decoder_test)\n",
    "\n",
    "word_inputs = torch.LongTensor([[1, 2, 3]])\n",
    "\n",
    "decoder_hidden_h = encoder_hidden[0].permute(1, 0, 2).reshape(1, 2, 10).permute(1, 0, 2)\n",
    "decoder_hidden_c = encoder_hidden[1].permute(1, 0, 2).reshape(1, 2, 10).permute(1, 0, 2)\n",
    "\n",
    "if USE_CUDA:\n",
    "    decoder_test.cuda()\n",
    "    word_inputs = word_inputs.cuda()\n",
    "\n",
    "for i in range(3):\n",
    "    input = word_inputs[:, i]\n",
    "    decoder_output, decoder_hidden = decoder_test(input, (decoder_hidden_h, decoder_hidden_c))\n",
    "    decoder_hidden_h, decoder_hidden_c = decoder_hidden\n",
    "    print(decoder_output.size(), decoder_hidden_h.size(), decoder_hidden_c.size())"
   ]
  },
  {
   "cell_type": "markdown",
   "metadata": {},
   "source": [
    "## Seq2seq\n",
    "\n",
    "The logic to coordinate this two modules I stored in a high-level module `Seq2seq`; it takes care of Encoder-Decoder coordination and a transformation of decoder results into a word probability distribution.\n",
    "\n",
    "Also, this module implements two `forward` functions: **one is for training time and second is for inference**. The difference between these two functions is that during training I am using training `y` values (target sentence words) as decoder input; this is called [Teacher Forcing](https://machinelearningmastery.com/teacher-forcing-for-recurrent-neural-networks/). Obviously, during inference, I don't have `y` values, so I need a separate method for it."
   ]
  },
  {
   "cell_type": "code",
   "execution_count": 11,
   "metadata": {
    "collapsed": true
   },
   "outputs": [],
   "source": [
    "class Seq2seq(nn.Module):\n",
    "    def __init__(self, input_vocab_size, output_vocab_size, hidden_size, n_layers):\n",
    "        super(Seq2seq, self).__init__()\n",
    "        \n",
    "        self.n_layers = n_layers\n",
    "        self.hidden_size = hidden_size\n",
    "        \n",
    "        self.encoder = EncoderRNN(input_vocab_size, hidden_size, self.n_layers)\n",
    "        self.decoder = DecoderRNN(output_vocab_size, hidden_size, self.n_layers)\n",
    "        \n",
    "        self.W = nn.Linear(hidden_size, output_vocab_size)\n",
    "        init.normal_(self.W.weight, 0.0, 0.2)\n",
    "        \n",
    "        self.softmax = nn.Softmax()\n",
    "        \n",
    "    def _forward_encoder(self, x):\n",
    "        batch_size = x.shape[0]\n",
    "        init_hidden = self.encoder.init_hidden(batch_size)\n",
    "        encoder_outputs, encoder_hidden = self.encoder(x, init_hidden)\n",
    "        encoder_hidden_h, encoder_hidden_c = encoder_hidden\n",
    "        \n",
    "        self.decoder_hidden_h = encoder_hidden_h.permute(1,0,2).reshape(batch_size, self.n_layers, self.hidden_size).permute(1,0,2)\n",
    "        self.decoder_hidden_c = encoder_hidden_c.permute(1,0,2).reshape(batch_size, self.n_layers, self.hidden_size).permute(1,0,2)\n",
    "        return self.decoder_hidden_h, self.decoder_hidden_c\n",
    "    \n",
    "    def forward_train(self, x, y):\n",
    "        decoder_hidden_h, decoder_hidden_c = self._forward_encoder(x)\n",
    "        \n",
    "        H = []\n",
    "        for i in range(y.shape[1]):\n",
    "            input = y[:, i]\n",
    "            decoder_output, decoder_hidden = self.decoder(input, (decoder_hidden_h, decoder_hidden_c))\n",
    "            decoder_hidden_h, decoder_hidden_c = decoder_hidden\n",
    "            # h: (batch_size, vocab_size)\n",
    "            h = self.W(decoder_output.squeeze(1))\n",
    "            # h: (batch_size, vocab_size, 1)\n",
    "            H.append(h.unsqueeze(2))\n",
    "        \n",
    "        # H: (batch_size, vocab_size, seq_len)\n",
    "        return torch.cat(H, dim=2)\n",
    "    \n",
    "    def forward(self, x):\n",
    "        decoder_hidden_h, decoder_hidden_c = self._forward_encoder(x)\n",
    "        \n",
    "        current_y = SOS_idx\n",
    "        result = [current_y]\n",
    "        counter = 0\n",
    "        while current_y != EOS_idx and counter < 100:\n",
    "            input = torch.tensor([current_y])\n",
    "            decoder_output, decoder_hidden = self.decoder(input, (decoder_hidden_h, decoder_hidden_c))\n",
    "            decoder_hidden_h, decoder_hidden_c = decoder_hidden\n",
    "            # h: (vocab_size)\n",
    "            h = self.W(decoder_output.squeeze(1)).squeeze(0)\n",
    "            y = self.softmax(h)\n",
    "            _, current_y = torch.max(y, dim=0)\n",
    "            current_y = current_y.item()\n",
    "            result.append(current_y)\n",
    "            counter += 1\n",
    "            \n",
    "        return result"
   ]
  },
  {
   "cell_type": "markdown",
   "metadata": {},
   "source": [
    "# Training\n",
    "\n",
    "To optimize neural network weights I need to have a model itself and *optimizer*. Model is already defined and the optimizer is usually available in the NN framework. I used [Adam](http://ruder.io/optimizing-gradient-descent/index.html#adam) from [torch.optim](https://pytorch.org/docs/stable/optim.html)."
   ]
  },
  {
   "cell_type": "code",
   "execution_count": 12,
   "metadata": {
    "collapsed": true
   },
   "outputs": [],
   "source": [
    "from torch.optim import Adam\n",
    "\n",
    "model = Seq2seq(len(source_vocab), len(target_vocab), 300, 1)\n",
    "optim = Adam(model.parameters(), lr=0.0001)"
   ]
  },
  {
   "cell_type": "markdown",
   "metadata": {},
   "source": [
    "Since neural network training is a computationally expensive process, it is better to a train neural network for multiple examples at once. Therefore I need to split the training data on *mini-batches*."
   ]
  },
  {
   "cell_type": "code",
   "execution_count": 13,
   "metadata": {
    "collapsed": true
   },
   "outputs": [],
   "source": [
    "import math\n",
    "\n",
    "def batch_generator(batch_indices, batch_size):\n",
    "    batches = math.ceil(len(batch_indices)/batch_size)\n",
    "    for i in range(batches):\n",
    "        batch_start = i*batch_size\n",
    "        batch_end = (i+1)*batch_size\n",
    "        if batch_end > len(batch_indices):\n",
    "            yield batch_indices[batch_start:]\n",
    "        else:\n",
    "            yield batch_indices[batch_start:batch_end]"
   ]
  },
  {
   "cell_type": "markdown",
   "metadata": {},
   "source": [
    "Previously I mentioned *a log-likelyhood function* which is used to optimize model parameters; in PyTorch this function is implemented in module `CrossEntropyLoss`:"
   ]
  },
  {
   "cell_type": "code",
   "execution_count": 14,
   "metadata": {
    "collapsed": true
   },
   "outputs": [],
   "source": [
    "cross_entropy = nn.CrossEntropyLoss()"
   ]
  },
  {
   "cell_type": "markdown",
   "metadata": {},
   "source": [
    "To evaluate the performance of our network I should use a translation quality metric. Standard selection for neural machine translation would be previously mentioned BLEU - **bilingual evaluation understudy**. This metric is proven to have the most correlation with a human judgment of translation quality.\n",
    "\n",
    "What is important to understand that BLEU is looking **how many common phrases ([n-grams](https://en.wikipedia.org/wiki/N-gram)) are shared** between a model translation and multiple correct translation references. This could be unigrams (phrases of one word) in BLEU-1, bigrams (two words) in BLEU-2 and so on. Since my dataset is relatively small for a neural model, I used less restrictive BLEU-1 as the main metric."
   ]
  },
  {
   "cell_type": "code",
   "execution_count": 15,
   "metadata": {
    "collapsed": true
   },
   "outputs": [],
   "source": [
    "from nltk.translate.bleu_score import corpus_bleu\n",
    "\n",
    "def bleu(n):\n",
    "    weights = [1.0/n]*n + [0.0]*(4-n)\n",
    "    return lambda list_of_references, list_of_hypothesis: corpus_bleu(list_of_references, list_of_hypothesis, weights)\n",
    "\n",
    "def accuracy(list_of_references, list_of_hypothesis):\n",
    "    total = 0.0\n",
    "    for references, hypothesis in zip(list_of_references, list_of_hypothesis):\n",
    "        total += 1.0 if tuple(hypothesis) in set(references) else 0.0\n",
    "    return total / len(list_of_references)\n",
    "\n",
    "score_functions = {'BLEU-{}'.format(i):bleu(i) for i in range(1, 5)}\n",
    "score_functions['Accuracy'] = accuracy\n",
    "\n",
    "def score(model, X, target, desc='Scoring...'):\n",
    "    scores = {name:0.0 for name in score_functions.keys()}\n",
    "    length = len(target)\n",
    "    list_of_hypothesis = []\n",
    "    for i, x in tqdm(enumerate(X), \n",
    "                     desc=desc, \n",
    "                     total=length):\n",
    "        y = model(x.unsqueeze(0))\n",
    "        hypothesis = target_vocab.unidex_words(y[1:-1])  # Remove SOS and EOS from y\n",
    "        list_of_hypothesis.append(hypothesis)\n",
    "        \n",
    "    for name, func in score_functions.items():\n",
    "        score = func(target, list_of_hypothesis)\n",
    "        scores[name] = score\n",
    "    \n",
    "    return scores"
   ]
  },
  {
   "cell_type": "markdown",
   "metadata": {},
   "source": [
    "Finally, I can train my model. Each *training epoch* includes *a forward propagation*, which yields some *training hypothesis* for training source sentences; then `cross_entropy` calculates loss for this hypothesis and `loss.backward()` calculates *gradient* with respect to the loss for each model parameter. After that, `optim.step()` uses the gradient to **adjust model parameters and minimize loss**.\n",
    "\n",
    "After each training epoch, the development set is used **to evaluate model performance**. I used `early_stop_counter` to stop the training process if BLEU-1 is not getting better for 10 epochs.\n",
    "\n",
    "Module `tqdm` is optional to use, it is a handy and simple way to create a progress bar for long operations."
   ]
  },
  {
   "cell_type": "code",
   "execution_count": 16,
   "metadata": {},
   "outputs": [
    {
     "data": {
      "application/vnd.jupyter.widget-view+json": {
       "model_id": "7ba294ad19ec40d9a90290033c695aae",
       "version_major": 2,
       "version_minor": 0
      },
      "text/plain": [
       "A Jupyter Widget"
      ]
     },
     "metadata": {},
     "output_type": "display_data"
    },
    {
     "name": "stdout",
     "output_type": "stream",
     "text": [
      "\n",
      "Epoch 1 training is finished, loss: 5.6508\n"
     ]
    },
    {
     "data": {
      "application/vnd.jupyter.widget-view+json": {
       "model_id": "fc0e86fe5e064f5db66e90475f725db2",
       "version_major": 2,
       "version_minor": 0
      },
      "text/plain": [
       "A Jupyter Widget"
      ]
     },
     "metadata": {},
     "output_type": "display_data"
    },
    {
     "name": "stderr",
     "output_type": "stream",
     "text": [
      "/Users/anatolii.stehnii/anaconda3/lib/python3.6/site-packages/ipykernel_launcher.py:54: UserWarning: Implicit dimension choice for softmax has been deprecated. Change the call to include dim=X as an argument.\n"
     ]
    },
    {
     "name": "stdout",
     "output_type": "stream",
     "text": [
      "\n",
      "Epoch 1 validation is finished.\n",
      "BLEU-1: 0.1862\n",
      "BLEU-2: 0.0104\n",
      "BLEU-3: 0.0000\n",
      "BLEU-4: 0.0000\n",
      "Accuracy: 0.0000\n",
      "The best model is found, resetting early stop counter.\n"
     ]
    },
    {
     "name": "stderr",
     "output_type": "stream",
     "text": [
      "/Users/anatolii.stehnii/anaconda3/lib/python3.6/site-packages/nltk/translate/bleu_score.py:503: UserWarning: \n",
      "The hypothesis contains 0 counts of 3-gram overlaps.\n",
      "Therefore the BLEU score evaluates to 0, independently of\n",
      "how many N-gram overlaps of lower order it contains.\n",
      "Consider using lower n-gram order or use SmoothingFunction()\n",
      "  warnings.warn(_msg)\n",
      "/Users/anatolii.stehnii/anaconda3/lib/python3.6/site-packages/nltk/translate/bleu_score.py:503: UserWarning: \n",
      "The hypothesis contains 0 counts of 4-gram overlaps.\n",
      "Therefore the BLEU score evaluates to 0, independently of\n",
      "how many N-gram overlaps of lower order it contains.\n",
      "Consider using lower n-gram order or use SmoothingFunction()\n",
      "  warnings.warn(_msg)\n"
     ]
    },
    {
     "data": {
      "application/vnd.jupyter.widget-view+json": {
       "model_id": "0f4eb047ee8048a8a9801e26f8a7f0c9",
       "version_major": 2,
       "version_minor": 0
      },
      "text/plain": [
       "A Jupyter Widget"
      ]
     },
     "metadata": {},
     "output_type": "display_data"
    },
    {
     "name": "stdout",
     "output_type": "stream",
     "text": [
      "\n",
      "Epoch 2 training is finished, loss: 3.2601\n"
     ]
    },
    {
     "data": {
      "application/vnd.jupyter.widget-view+json": {
       "model_id": "6584fe0578044bf5a5b5dba008decf9b",
       "version_major": 2,
       "version_minor": 0
      },
      "text/plain": [
       "A Jupyter Widget"
      ]
     },
     "metadata": {},
     "output_type": "display_data"
    },
    {
     "name": "stdout",
     "output_type": "stream",
     "text": [
      "\n",
      "Epoch 2 validation is finished.\n",
      "BLEU-1: 0.2246\n",
      "BLEU-2: 0.0628\n",
      "BLEU-3: 0.0000\n",
      "BLEU-4: 0.0000\n",
      "Accuracy: 0.0000\n",
      "The best model is found, resetting early stop counter.\n"
     ]
    },
    {
     "data": {
      "application/vnd.jupyter.widget-view+json": {
       "model_id": "153c00843aa84b8b95d71f5ad44b7a3b",
       "version_major": 2,
       "version_minor": 0
      },
      "text/plain": [
       "A Jupyter Widget"
      ]
     },
     "metadata": {},
     "output_type": "display_data"
    },
    {
     "name": "stdout",
     "output_type": "stream",
     "text": [
      "\n",
      "Epoch 3 training is finished, loss: 2.9334\n"
     ]
    },
    {
     "data": {
      "application/vnd.jupyter.widget-view+json": {
       "model_id": "2741906424fc4a00bbbc3b29f5187ea1",
       "version_major": 2,
       "version_minor": 0
      },
      "text/plain": [
       "A Jupyter Widget"
      ]
     },
     "metadata": {},
     "output_type": "display_data"
    },
    {
     "name": "stdout",
     "output_type": "stream",
     "text": [
      "\n",
      "Epoch 3 validation is finished.\n",
      "BLEU-1: 0.2984\n",
      "BLEU-2: 0.0896\n",
      "BLEU-3: 0.0190\n",
      "BLEU-4: 0.0000\n",
      "Accuracy: 0.0000\n",
      "The best model is found, resetting early stop counter.\n"
     ]
    },
    {
     "data": {
      "application/vnd.jupyter.widget-view+json": {
       "model_id": "60ed3437624d4fc38a0871b6bc76f64b",
       "version_major": 2,
       "version_minor": 0
      },
      "text/plain": [
       "A Jupyter Widget"
      ]
     },
     "metadata": {},
     "output_type": "display_data"
    },
    {
     "name": "stdout",
     "output_type": "stream",
     "text": [
      "\n",
      "Epoch 4 training is finished, loss: 2.7522\n"
     ]
    },
    {
     "data": {
      "application/vnd.jupyter.widget-view+json": {
       "model_id": "574a6d30e8744e5595784162d055c98e",
       "version_major": 2,
       "version_minor": 0
      },
      "text/plain": [
       "A Jupyter Widget"
      ]
     },
     "metadata": {},
     "output_type": "display_data"
    },
    {
     "name": "stdout",
     "output_type": "stream",
     "text": [
      "\n",
      "Epoch 4 validation is finished.\n",
      "BLEU-1: 0.3278\n",
      "BLEU-2: 0.1104\n",
      "BLEU-3: 0.0271\n",
      "BLEU-4: 0.0000\n",
      "Accuracy: 0.0000\n",
      "The best model is found, resetting early stop counter.\n"
     ]
    },
    {
     "data": {
      "application/vnd.jupyter.widget-view+json": {
       "model_id": "9120e3103a7842018ee7b11f3ff7be81",
       "version_major": 2,
       "version_minor": 0
      },
      "text/plain": [
       "A Jupyter Widget"
      ]
     },
     "metadata": {},
     "output_type": "display_data"
    },
    {
     "name": "stdout",
     "output_type": "stream",
     "text": [
      "\n",
      "Epoch 5 training is finished, loss: 2.6400\n"
     ]
    },
    {
     "data": {
      "application/vnd.jupyter.widget-view+json": {
       "model_id": "50f8db384ffd4832b8116310a3722869",
       "version_major": 2,
       "version_minor": 0
      },
      "text/plain": [
       "A Jupyter Widget"
      ]
     },
     "metadata": {},
     "output_type": "display_data"
    },
    {
     "name": "stdout",
     "output_type": "stream",
     "text": [
      "\n",
      "Epoch 5 validation is finished.\n",
      "BLEU-1: 0.3502\n",
      "BLEU-2: 0.1284\n",
      "BLEU-3: 0.0451\n",
      "BLEU-4: 0.0000\n",
      "Accuracy: 0.0000\n",
      "The best model is found, resetting early stop counter.\n"
     ]
    },
    {
     "data": {
      "application/vnd.jupyter.widget-view+json": {
       "model_id": "0d7916e4bce04b0fa9538472efce5e20",
       "version_major": 2,
       "version_minor": 0
      },
      "text/plain": [
       "A Jupyter Widget"
      ]
     },
     "metadata": {},
     "output_type": "display_data"
    },
    {
     "name": "stdout",
     "output_type": "stream",
     "text": [
      "\n",
      "Epoch 6 training is finished, loss: 2.5519\n"
     ]
    },
    {
     "data": {
      "application/vnd.jupyter.widget-view+json": {
       "model_id": "b6c4f1d04f93423ba6d17e9f4e83afe3",
       "version_major": 2,
       "version_minor": 0
      },
      "text/plain": [
       "A Jupyter Widget"
      ]
     },
     "metadata": {},
     "output_type": "display_data"
    },
    {
     "name": "stdout",
     "output_type": "stream",
     "text": [
      "\n",
      "Epoch 6 validation is finished.\n",
      "BLEU-1: 0.3667\n",
      "BLEU-2: 0.1392\n",
      "BLEU-3: 0.0524\n",
      "BLEU-4: 0.0000\n",
      "Accuracy: 0.0000\n",
      "The best model is found, resetting early stop counter.\n"
     ]
    },
    {
     "data": {
      "application/vnd.jupyter.widget-view+json": {
       "model_id": "3d663411bbfd47dc8a4c24bc66980c89",
       "version_major": 2,
       "version_minor": 0
      },
      "text/plain": [
       "A Jupyter Widget"
      ]
     },
     "metadata": {},
     "output_type": "display_data"
    },
    {
     "name": "stdout",
     "output_type": "stream",
     "text": [
      "\n",
      "Epoch 7 training is finished, loss: 2.4749\n"
     ]
    },
    {
     "data": {
      "application/vnd.jupyter.widget-view+json": {
       "model_id": "2cd4ae29c24044c0b45a5c710313c8d5",
       "version_major": 2,
       "version_minor": 0
      },
      "text/plain": [
       "A Jupyter Widget"
      ]
     },
     "metadata": {},
     "output_type": "display_data"
    },
    {
     "name": "stdout",
     "output_type": "stream",
     "text": [
      "\n",
      "Epoch 7 validation is finished.\n",
      "BLEU-1: 0.3802\n",
      "BLEU-2: 0.1444\n",
      "BLEU-3: 0.0541\n",
      "BLEU-4: 0.0170\n",
      "Accuracy: 0.0000\n",
      "The best model is found, resetting early stop counter.\n"
     ]
    },
    {
     "data": {
      "application/vnd.jupyter.widget-view+json": {
       "model_id": "fadc4d2df5a24077973d3d9da59556d0",
       "version_major": 2,
       "version_minor": 0
      },
      "text/plain": [
       "A Jupyter Widget"
      ]
     },
     "metadata": {},
     "output_type": "display_data"
    },
    {
     "name": "stdout",
     "output_type": "stream",
     "text": [
      "\n",
      "Epoch 8 training is finished, loss: 2.4035\n"
     ]
    },
    {
     "data": {
      "application/vnd.jupyter.widget-view+json": {
       "model_id": "7964cd4f3f0a4d7abeb1d8040fc11d94",
       "version_major": 2,
       "version_minor": 0
      },
      "text/plain": [
       "A Jupyter Widget"
      ]
     },
     "metadata": {},
     "output_type": "display_data"
    },
    {
     "name": "stdout",
     "output_type": "stream",
     "text": [
      "\n",
      "Epoch 8 validation is finished.\n",
      "BLEU-1: 0.3898\n",
      "BLEU-2: 0.1556\n",
      "BLEU-3: 0.0625\n",
      "BLEU-4: 0.0224\n",
      "Accuracy: 0.0000\n",
      "The best model is found, resetting early stop counter.\n"
     ]
    },
    {
     "data": {
      "application/vnd.jupyter.widget-view+json": {
       "model_id": "73cdac38cdc74b8a8f962fa3cf6e0435",
       "version_major": 2,
       "version_minor": 0
      },
      "text/plain": [
       "A Jupyter Widget"
      ]
     },
     "metadata": {},
     "output_type": "display_data"
    },
    {
     "name": "stdout",
     "output_type": "stream",
     "text": [
      "\n",
      "Epoch 9 training is finished, loss: 2.3355\n"
     ]
    },
    {
     "data": {
      "application/vnd.jupyter.widget-view+json": {
       "model_id": "3e73ead4f58c43d49b7a85d31b5cda19",
       "version_major": 2,
       "version_minor": 0
      },
      "text/plain": [
       "A Jupyter Widget"
      ]
     },
     "metadata": {},
     "output_type": "display_data"
    },
    {
     "name": "stdout",
     "output_type": "stream",
     "text": [
      "\n",
      "Epoch 9 validation is finished.\n",
      "BLEU-1: 0.3992\n",
      "BLEU-2: 0.1600\n",
      "BLEU-3: 0.0668\n",
      "BLEU-4: 0.0276\n",
      "Accuracy: 0.0000\n",
      "The best model is found, resetting early stop counter.\n"
     ]
    },
    {
     "data": {
      "application/vnd.jupyter.widget-view+json": {
       "model_id": "b18e0760971b4c9aac9075667f53710e",
       "version_major": 2,
       "version_minor": 0
      },
      "text/plain": [
       "A Jupyter Widget"
      ]
     },
     "metadata": {},
     "output_type": "display_data"
    },
    {
     "name": "stdout",
     "output_type": "stream",
     "text": [
      "\n",
      "Epoch 10 training is finished, loss: 2.2702\n"
     ]
    },
    {
     "data": {
      "application/vnd.jupyter.widget-view+json": {
       "model_id": "0214ff6aba934f61a482acb448f7ee8b",
       "version_major": 2,
       "version_minor": 0
      },
      "text/plain": [
       "A Jupyter Widget"
      ]
     },
     "metadata": {},
     "output_type": "display_data"
    },
    {
     "name": "stdout",
     "output_type": "stream",
     "text": [
      "\n",
      "Epoch 10 validation is finished.\n",
      "BLEU-1: 0.3843\n",
      "BLEU-2: 0.1588\n",
      "BLEU-3: 0.0662\n",
      "BLEU-4: 0.0264\n",
      "Accuracy: 0.0000\n",
      "No improvements for 1 epochs.\n"
     ]
    },
    {
     "data": {
      "application/vnd.jupyter.widget-view+json": {
       "model_id": "abf6b2fde57a41629d19771a3e02c699",
       "version_major": 2,
       "version_minor": 0
      },
      "text/plain": [
       "A Jupyter Widget"
      ]
     },
     "metadata": {},
     "output_type": "display_data"
    },
    {
     "name": "stdout",
     "output_type": "stream",
     "text": [
      "\n",
      "Epoch 11 training is finished, loss: 2.2071\n"
     ]
    },
    {
     "data": {
      "application/vnd.jupyter.widget-view+json": {
       "model_id": "ffd1421ec79344cc85ca4d916b669070",
       "version_major": 2,
       "version_minor": 0
      },
      "text/plain": [
       "A Jupyter Widget"
      ]
     },
     "metadata": {},
     "output_type": "display_data"
    },
    {
     "name": "stdout",
     "output_type": "stream",
     "text": [
      "\n",
      "Epoch 11 validation is finished.\n",
      "BLEU-1: 0.3927\n",
      "BLEU-2: 0.1652\n",
      "BLEU-3: 0.0712\n",
      "BLEU-4: 0.0310\n",
      "Accuracy: 0.0000\n",
      "No improvements for 2 epochs.\n"
     ]
    },
    {
     "data": {
      "application/vnd.jupyter.widget-view+json": {
       "model_id": "4c3477d5d59344b08771d3c850d53b4d",
       "version_major": 2,
       "version_minor": 0
      },
      "text/plain": [
       "A Jupyter Widget"
      ]
     },
     "metadata": {},
     "output_type": "display_data"
    },
    {
     "name": "stdout",
     "output_type": "stream",
     "text": [
      "\n",
      "Epoch 12 training is finished, loss: 2.1458\n"
     ]
    },
    {
     "data": {
      "application/vnd.jupyter.widget-view+json": {
       "model_id": "8a6de6cea53c4ce093003f107b3bcef2",
       "version_major": 2,
       "version_minor": 0
      },
      "text/plain": [
       "A Jupyter Widget"
      ]
     },
     "metadata": {},
     "output_type": "display_data"
    },
    {
     "name": "stdout",
     "output_type": "stream",
     "text": [
      "\n",
      "Epoch 12 validation is finished.\n",
      "BLEU-1: 0.3516\n",
      "BLEU-2: 0.1485\n",
      "BLEU-3: 0.0639\n",
      "BLEU-4: 0.0299\n",
      "Accuracy: 0.0000\n",
      "No improvements for 3 epochs.\n"
     ]
    },
    {
     "data": {
      "application/vnd.jupyter.widget-view+json": {
       "model_id": "0833ea2cadb841f081d92651dfb1893a",
       "version_major": 2,
       "version_minor": 0
      },
      "text/plain": [
       "A Jupyter Widget"
      ]
     },
     "metadata": {},
     "output_type": "display_data"
    },
    {
     "name": "stdout",
     "output_type": "stream",
     "text": [
      "\n",
      "Epoch 13 training is finished, loss: 2.0861\n"
     ]
    },
    {
     "data": {
      "application/vnd.jupyter.widget-view+json": {
       "model_id": "939e4162a5cd4202b67a1dac9af17c86",
       "version_major": 2,
       "version_minor": 0
      },
      "text/plain": [
       "A Jupyter Widget"
      ]
     },
     "metadata": {},
     "output_type": "display_data"
    },
    {
     "name": "stdout",
     "output_type": "stream",
     "text": [
      "\n",
      "Epoch 13 validation is finished.\n",
      "BLEU-1: 0.3466\n",
      "BLEU-2: 0.1517\n",
      "BLEU-3: 0.0702\n",
      "BLEU-4: 0.0341\n",
      "Accuracy: 0.0000\n",
      "No improvements for 4 epochs.\n"
     ]
    },
    {
     "data": {
      "application/vnd.jupyter.widget-view+json": {
       "model_id": "f1f68ea0d7ae4fbd8d17af0d60e60302",
       "version_major": 2,
       "version_minor": 0
      },
      "text/plain": [
       "A Jupyter Widget"
      ]
     },
     "metadata": {},
     "output_type": "display_data"
    },
    {
     "name": "stdout",
     "output_type": "stream",
     "text": [
      "\n",
      "Epoch 14 training is finished, loss: 2.0277\n"
     ]
    },
    {
     "data": {
      "application/vnd.jupyter.widget-view+json": {
       "model_id": "8dcd5318ee79405480c4b86391dcd92f",
       "version_major": 2,
       "version_minor": 0
      },
      "text/plain": [
       "A Jupyter Widget"
      ]
     },
     "metadata": {},
     "output_type": "display_data"
    },
    {
     "name": "stdout",
     "output_type": "stream",
     "text": [
      "\n",
      "Epoch 14 validation is finished.\n",
      "BLEU-1: 0.3552\n",
      "BLEU-2: 0.1568\n",
      "BLEU-3: 0.0721\n",
      "BLEU-4: 0.0333\n",
      "Accuracy: 0.0000\n",
      "No improvements for 5 epochs.\n"
     ]
    },
    {
     "data": {
      "application/vnd.jupyter.widget-view+json": {
       "model_id": "e7f2eac3763b4b79af35ee9c82fabd7e",
       "version_major": 2,
       "version_minor": 0
      },
      "text/plain": [
       "A Jupyter Widget"
      ]
     },
     "metadata": {},
     "output_type": "display_data"
    },
    {
     "name": "stdout",
     "output_type": "stream",
     "text": [
      "\n",
      "Epoch 15 training is finished, loss: 1.9707\n"
     ]
    },
    {
     "data": {
      "application/vnd.jupyter.widget-view+json": {
       "model_id": "1f7e57b76de94f0da7e7b967195ac8e1",
       "version_major": 2,
       "version_minor": 0
      },
      "text/plain": [
       "A Jupyter Widget"
      ]
     },
     "metadata": {},
     "output_type": "display_data"
    },
    {
     "name": "stdout",
     "output_type": "stream",
     "text": [
      "\n",
      "Epoch 15 validation is finished.\n",
      "BLEU-1: 0.3870\n",
      "BLEU-2: 0.1788\n",
      "BLEU-3: 0.0888\n",
      "BLEU-4: 0.0452\n",
      "Accuracy: 0.0028\n",
      "No improvements for 6 epochs.\n"
     ]
    },
    {
     "data": {
      "application/vnd.jupyter.widget-view+json": {
       "model_id": "2bb2ac970c594adcae22d531f02e3d24",
       "version_major": 2,
       "version_minor": 0
      },
      "text/plain": [
       "A Jupyter Widget"
      ]
     },
     "metadata": {},
     "output_type": "display_data"
    },
    {
     "name": "stdout",
     "output_type": "stream",
     "text": [
      "\n",
      "Epoch 16 training is finished, loss: 1.9150\n"
     ]
    },
    {
     "data": {
      "application/vnd.jupyter.widget-view+json": {
       "model_id": "5f1194bfe6b6407fb0784e29486191bc",
       "version_major": 2,
       "version_minor": 0
      },
      "text/plain": [
       "A Jupyter Widget"
      ]
     },
     "metadata": {},
     "output_type": "display_data"
    },
    {
     "name": "stdout",
     "output_type": "stream",
     "text": [
      "\n",
      "Epoch 16 validation is finished.\n",
      "BLEU-1: 0.4143\n",
      "BLEU-2: 0.1944\n",
      "BLEU-3: 0.0984\n",
      "BLEU-4: 0.0502\n",
      "Accuracy: 0.0028\n",
      "The best model is found, resetting early stop counter.\n"
     ]
    },
    {
     "data": {
      "application/vnd.jupyter.widget-view+json": {
       "model_id": "042180e91acb4e2f97238ed7a1876546",
       "version_major": 2,
       "version_minor": 0
      },
      "text/plain": [
       "A Jupyter Widget"
      ]
     },
     "metadata": {},
     "output_type": "display_data"
    },
    {
     "name": "stdout",
     "output_type": "stream",
     "text": [
      "\n",
      "Epoch 17 training is finished, loss: 1.8606\n"
     ]
    },
    {
     "data": {
      "application/vnd.jupyter.widget-view+json": {
       "model_id": "f9b8e4d0b0884420964111e33835d92b",
       "version_major": 2,
       "version_minor": 0
      },
      "text/plain": [
       "A Jupyter Widget"
      ]
     },
     "metadata": {},
     "output_type": "display_data"
    },
    {
     "name": "stdout",
     "output_type": "stream",
     "text": [
      "\n",
      "Epoch 17 validation is finished.\n",
      "BLEU-1: 0.3955\n",
      "BLEU-2: 0.1887\n",
      "BLEU-3: 0.0973\n",
      "BLEU-4: 0.0499\n",
      "Accuracy: 0.0042\n",
      "No improvements for 1 epochs.\n"
     ]
    },
    {
     "data": {
      "application/vnd.jupyter.widget-view+json": {
       "model_id": "61119165386c4903b2523b6c34f2d1f9",
       "version_major": 2,
       "version_minor": 0
      },
      "text/plain": [
       "A Jupyter Widget"
      ]
     },
     "metadata": {},
     "output_type": "display_data"
    },
    {
     "name": "stdout",
     "output_type": "stream",
     "text": [
      "\n",
      "Epoch 18 training is finished, loss: 1.8078\n"
     ]
    },
    {
     "data": {
      "application/vnd.jupyter.widget-view+json": {
       "model_id": "412560f5e9be4ed7aae3544877ffe411",
       "version_major": 2,
       "version_minor": 0
      },
      "text/plain": [
       "A Jupyter Widget"
      ]
     },
     "metadata": {},
     "output_type": "display_data"
    },
    {
     "name": "stdout",
     "output_type": "stream",
     "text": [
      "\n",
      "Epoch 18 validation is finished.\n",
      "BLEU-1: 0.4170\n",
      "BLEU-2: 0.2009\n",
      "BLEU-3: 0.1050\n",
      "BLEU-4: 0.0562\n",
      "Accuracy: 0.0042\n",
      "The best model is found, resetting early stop counter.\n"
     ]
    },
    {
     "data": {
      "application/vnd.jupyter.widget-view+json": {
       "model_id": "e1328ce942234e2c81b43ed9eb4b9a7c",
       "version_major": 2,
       "version_minor": 0
      },
      "text/plain": [
       "A Jupyter Widget"
      ]
     },
     "metadata": {},
     "output_type": "display_data"
    },
    {
     "name": "stdout",
     "output_type": "stream",
     "text": [
      "\n",
      "Epoch 19 training is finished, loss: 1.7570\n"
     ]
    },
    {
     "data": {
      "application/vnd.jupyter.widget-view+json": {
       "model_id": "fd3023c0f4394a87a7e9c1ad04dec07a",
       "version_major": 2,
       "version_minor": 0
      },
      "text/plain": [
       "A Jupyter Widget"
      ]
     },
     "metadata": {},
     "output_type": "display_data"
    },
    {
     "name": "stdout",
     "output_type": "stream",
     "text": [
      "\n",
      "Epoch 19 validation is finished.\n",
      "BLEU-1: 0.4341\n",
      "BLEU-2: 0.2108\n",
      "BLEU-3: 0.1121\n",
      "BLEU-4: 0.0601\n",
      "Accuracy: 0.0042\n",
      "The best model is found, resetting early stop counter.\n"
     ]
    },
    {
     "data": {
      "application/vnd.jupyter.widget-view+json": {
       "model_id": "78a34799f7654aecb94a37b3d31d978c",
       "version_major": 2,
       "version_minor": 0
      },
      "text/plain": [
       "A Jupyter Widget"
      ]
     },
     "metadata": {},
     "output_type": "display_data"
    },
    {
     "name": "stdout",
     "output_type": "stream",
     "text": [
      "\n",
      "Epoch 20 training is finished, loss: 1.7142\n"
     ]
    },
    {
     "data": {
      "application/vnd.jupyter.widget-view+json": {
       "model_id": "ca53baf9d8c04c818aeb6bd81cb48920",
       "version_major": 2,
       "version_minor": 0
      },
      "text/plain": [
       "A Jupyter Widget"
      ]
     },
     "metadata": {},
     "output_type": "display_data"
    },
    {
     "name": "stdout",
     "output_type": "stream",
     "text": [
      "\n",
      "Epoch 20 validation is finished.\n",
      "BLEU-1: 0.4363\n",
      "BLEU-2: 0.2126\n",
      "BLEU-3: 0.1132\n",
      "BLEU-4: 0.0612\n",
      "Accuracy: 0.0056\n",
      "The best model is found, resetting early stop counter.\n"
     ]
    },
    {
     "data": {
      "application/vnd.jupyter.widget-view+json": {
       "model_id": "464b36e9b4bf426cbcfb3e77bb25199d",
       "version_major": 2,
       "version_minor": 0
      },
      "text/plain": [
       "A Jupyter Widget"
      ]
     },
     "metadata": {},
     "output_type": "display_data"
    },
    {
     "name": "stdout",
     "output_type": "stream",
     "text": [
      "\n",
      "Epoch 21 training is finished, loss: 1.6740\n"
     ]
    },
    {
     "data": {
      "application/vnd.jupyter.widget-view+json": {
       "model_id": "e89609079f284a7083eae2707ae4b4ce",
       "version_major": 2,
       "version_minor": 0
      },
      "text/plain": [
       "A Jupyter Widget"
      ]
     },
     "metadata": {},
     "output_type": "display_data"
    },
    {
     "name": "stdout",
     "output_type": "stream",
     "text": [
      "\n",
      "Epoch 21 validation is finished.\n",
      "BLEU-1: 0.4303\n",
      "BLEU-2: 0.2127\n",
      "BLEU-3: 0.1161\n",
      "BLEU-4: 0.0625\n",
      "Accuracy: 0.0070\n",
      "No improvements for 1 epochs.\n"
     ]
    },
    {
     "data": {
      "application/vnd.jupyter.widget-view+json": {
       "model_id": "78687a2b102b438b8b8a9c5ee00d4055",
       "version_major": 2,
       "version_minor": 0
      },
      "text/plain": [
       "A Jupyter Widget"
      ]
     },
     "metadata": {},
     "output_type": "display_data"
    },
    {
     "name": "stdout",
     "output_type": "stream",
     "text": [
      "\n",
      "Epoch 22 training is finished, loss: 1.6301\n"
     ]
    },
    {
     "data": {
      "application/vnd.jupyter.widget-view+json": {
       "model_id": "ea39e3b0ec6d4ff6a86832aaa88e9ee2",
       "version_major": 2,
       "version_minor": 0
      },
      "text/plain": [
       "A Jupyter Widget"
      ]
     },
     "metadata": {},
     "output_type": "display_data"
    },
    {
     "name": "stdout",
     "output_type": "stream",
     "text": [
      "\n",
      "Epoch 22 validation is finished.\n",
      "BLEU-1: 0.4020\n",
      "BLEU-2: 0.1981\n",
      "BLEU-3: 0.1083\n",
      "BLEU-4: 0.0597\n",
      "Accuracy: 0.0070\n",
      "No improvements for 2 epochs.\n"
     ]
    },
    {
     "data": {
      "application/vnd.jupyter.widget-view+json": {
       "model_id": "152c8fd814604fd0bddce77b6b5870db",
       "version_major": 2,
       "version_minor": 0
      },
      "text/plain": [
       "A Jupyter Widget"
      ]
     },
     "metadata": {},
     "output_type": "display_data"
    },
    {
     "name": "stdout",
     "output_type": "stream",
     "text": [
      "\n",
      "Epoch 23 training is finished, loss: 1.5790\n"
     ]
    },
    {
     "data": {
      "application/vnd.jupyter.widget-view+json": {
       "model_id": "d23a2620c42e4fdbb11f3988ce13d5fd",
       "version_major": 2,
       "version_minor": 0
      },
      "text/plain": [
       "A Jupyter Widget"
      ]
     },
     "metadata": {},
     "output_type": "display_data"
    },
    {
     "name": "stdout",
     "output_type": "stream",
     "text": [
      "\n",
      "Epoch 23 validation is finished.\n",
      "BLEU-1: 0.3989\n",
      "BLEU-2: 0.1997\n",
      "BLEU-3: 0.1114\n",
      "BLEU-4: 0.0636\n",
      "Accuracy: 0.0111\n",
      "No improvements for 3 epochs.\n"
     ]
    },
    {
     "data": {
      "application/vnd.jupyter.widget-view+json": {
       "model_id": "1a4ea1753da746c4b12a41293405f04d",
       "version_major": 2,
       "version_minor": 0
      },
      "text/plain": [
       "A Jupyter Widget"
      ]
     },
     "metadata": {},
     "output_type": "display_data"
    },
    {
     "name": "stdout",
     "output_type": "stream",
     "text": [
      "\n",
      "Epoch 24 training is finished, loss: 1.5303\n"
     ]
    },
    {
     "data": {
      "application/vnd.jupyter.widget-view+json": {
       "model_id": "a94e4f7eca8a4df6886331f204cbeac3",
       "version_major": 2,
       "version_minor": 0
      },
      "text/plain": [
       "A Jupyter Widget"
      ]
     },
     "metadata": {},
     "output_type": "display_data"
    },
    {
     "name": "stdout",
     "output_type": "stream",
     "text": [
      "\n",
      "Epoch 24 validation is finished.\n",
      "BLEU-1: 0.3862\n",
      "BLEU-2: 0.1923\n",
      "BLEU-3: 0.1073\n",
      "BLEU-4: 0.0623\n",
      "Accuracy: 0.0125\n",
      "No improvements for 4 epochs.\n"
     ]
    },
    {
     "data": {
      "application/vnd.jupyter.widget-view+json": {
       "model_id": "15564fd40c644ac0bb454d294bfa4ba7",
       "version_major": 2,
       "version_minor": 0
      },
      "text/plain": [
       "A Jupyter Widget"
      ]
     },
     "metadata": {},
     "output_type": "display_data"
    },
    {
     "name": "stdout",
     "output_type": "stream",
     "text": [
      "\n",
      "Epoch 25 training is finished, loss: 1.4852\n"
     ]
    },
    {
     "data": {
      "application/vnd.jupyter.widget-view+json": {
       "model_id": "899a896801a04bf894fde5a1c3296721",
       "version_major": 2,
       "version_minor": 0
      },
      "text/plain": [
       "A Jupyter Widget"
      ]
     },
     "metadata": {},
     "output_type": "display_data"
    },
    {
     "name": "stdout",
     "output_type": "stream",
     "text": [
      "\n",
      "Epoch 25 validation is finished.\n",
      "BLEU-1: 0.4026\n",
      "BLEU-2: 0.2025\n",
      "BLEU-3: 0.1145\n",
      "BLEU-4: 0.0688\n",
      "Accuracy: 0.0167\n",
      "No improvements for 5 epochs.\n"
     ]
    },
    {
     "data": {
      "application/vnd.jupyter.widget-view+json": {
       "model_id": "cd923aeaacd0478e80e4fb762f691605",
       "version_major": 2,
       "version_minor": 0
      },
      "text/plain": [
       "A Jupyter Widget"
      ]
     },
     "metadata": {},
     "output_type": "display_data"
    },
    {
     "name": "stdout",
     "output_type": "stream",
     "text": [
      "\n",
      "Epoch 26 training is finished, loss: 1.4418\n"
     ]
    },
    {
     "data": {
      "application/vnd.jupyter.widget-view+json": {
       "model_id": "a2d318315595465691ac39e51980490d",
       "version_major": 2,
       "version_minor": 0
      },
      "text/plain": [
       "A Jupyter Widget"
      ]
     },
     "metadata": {},
     "output_type": "display_data"
    },
    {
     "name": "stdout",
     "output_type": "stream",
     "text": [
      "\n",
      "Epoch 26 validation is finished.\n",
      "BLEU-1: 0.4228\n",
      "BLEU-2: 0.2160\n",
      "BLEU-3: 0.1240\n",
      "BLEU-4: 0.0749\n",
      "Accuracy: 0.0181\n",
      "No improvements for 6 epochs.\n"
     ]
    },
    {
     "data": {
      "application/vnd.jupyter.widget-view+json": {
       "model_id": "2817c819019d453394778ebaecfa34b1",
       "version_major": 2,
       "version_minor": 0
      },
      "text/plain": [
       "A Jupyter Widget"
      ]
     },
     "metadata": {},
     "output_type": "display_data"
    },
    {
     "name": "stdout",
     "output_type": "stream",
     "text": [
      "\n",
      "Epoch 27 training is finished, loss: 1.3997\n"
     ]
    },
    {
     "data": {
      "application/vnd.jupyter.widget-view+json": {
       "model_id": "ed9acad80193425da345cc60eb85fec9",
       "version_major": 2,
       "version_minor": 0
      },
      "text/plain": [
       "A Jupyter Widget"
      ]
     },
     "metadata": {},
     "output_type": "display_data"
    },
    {
     "name": "stdout",
     "output_type": "stream",
     "text": [
      "\n",
      "Epoch 27 validation is finished.\n",
      "BLEU-1: 0.4209\n",
      "BLEU-2: 0.2199\n",
      "BLEU-3: 0.1288\n",
      "BLEU-4: 0.0792\n",
      "Accuracy: 0.0209\n",
      "No improvements for 7 epochs.\n"
     ]
    },
    {
     "data": {
      "application/vnd.jupyter.widget-view+json": {
       "model_id": "55690339cf4847a3afa5f6cd1cc8263d",
       "version_major": 2,
       "version_minor": 0
      },
      "text/plain": [
       "A Jupyter Widget"
      ]
     },
     "metadata": {},
     "output_type": "display_data"
    },
    {
     "name": "stdout",
     "output_type": "stream",
     "text": [
      "\n",
      "Epoch 28 training is finished, loss: 1.3587\n"
     ]
    },
    {
     "data": {
      "application/vnd.jupyter.widget-view+json": {
       "model_id": "cc5ab21f33bb473bb7c60a57f8fb4300",
       "version_major": 2,
       "version_minor": 0
      },
      "text/plain": [
       "A Jupyter Widget"
      ]
     },
     "metadata": {},
     "output_type": "display_data"
    },
    {
     "name": "stdout",
     "output_type": "stream",
     "text": [
      "\n",
      "Epoch 28 validation is finished.\n",
      "BLEU-1: 0.4423\n",
      "BLEU-2: 0.2320\n",
      "BLEU-3: 0.1349\n",
      "BLEU-4: 0.0819\n",
      "Accuracy: 0.0195\n",
      "The best model is found, resetting early stop counter.\n"
     ]
    },
    {
     "data": {
      "application/vnd.jupyter.widget-view+json": {
       "model_id": "598c7c009aa945f5b05f6997b4fc576d",
       "version_major": 2,
       "version_minor": 0
      },
      "text/plain": [
       "A Jupyter Widget"
      ]
     },
     "metadata": {},
     "output_type": "display_data"
    },
    {
     "name": "stdout",
     "output_type": "stream",
     "text": [
      "\n",
      "Epoch 29 training is finished, loss: 1.3189\n"
     ]
    },
    {
     "data": {
      "application/vnd.jupyter.widget-view+json": {
       "model_id": "5169c9de959c4c5296439172cba17131",
       "version_major": 2,
       "version_minor": 0
      },
      "text/plain": [
       "A Jupyter Widget"
      ]
     },
     "metadata": {},
     "output_type": "display_data"
    },
    {
     "name": "stdout",
     "output_type": "stream",
     "text": [
      "\n",
      "Epoch 29 validation is finished.\n",
      "BLEU-1: 0.4551\n",
      "BLEU-2: 0.2392\n",
      "BLEU-3: 0.1404\n",
      "BLEU-4: 0.0867\n",
      "Accuracy: 0.0209\n",
      "The best model is found, resetting early stop counter.\n"
     ]
    },
    {
     "data": {
      "application/vnd.jupyter.widget-view+json": {
       "model_id": "35aeed0314a74b8eab11eb8dd7fb5398",
       "version_major": 2,
       "version_minor": 0
      },
      "text/plain": [
       "A Jupyter Widget"
      ]
     },
     "metadata": {},
     "output_type": "display_data"
    },
    {
     "name": "stdout",
     "output_type": "stream",
     "text": [
      "\n",
      "Epoch 30 training is finished, loss: 1.2804\n"
     ]
    },
    {
     "data": {
      "application/vnd.jupyter.widget-view+json": {
       "model_id": "28d7d58bf0434fbda2d30f8a6d1069fe",
       "version_major": 2,
       "version_minor": 0
      },
      "text/plain": [
       "A Jupyter Widget"
      ]
     },
     "metadata": {},
     "output_type": "display_data"
    },
    {
     "name": "stdout",
     "output_type": "stream",
     "text": [
      "\n",
      "Epoch 30 validation is finished.\n",
      "BLEU-1: 0.4459\n",
      "BLEU-2: 0.2375\n",
      "BLEU-3: 0.1394\n",
      "BLEU-4: 0.0854\n",
      "Accuracy: 0.0209\n",
      "No improvements for 1 epochs.\n"
     ]
    },
    {
     "data": {
      "application/vnd.jupyter.widget-view+json": {
       "model_id": "842753a5d31e4c96860a0aa4cecb5570",
       "version_major": 2,
       "version_minor": 0
      },
      "text/plain": [
       "A Jupyter Widget"
      ]
     },
     "metadata": {},
     "output_type": "display_data"
    },
    {
     "name": "stdout",
     "output_type": "stream",
     "text": [
      "\n",
      "Epoch 31 training is finished, loss: 1.2435\n"
     ]
    },
    {
     "data": {
      "application/vnd.jupyter.widget-view+json": {
       "model_id": "a691c17c58404273bdac97c94f65c178",
       "version_major": 2,
       "version_minor": 0
      },
      "text/plain": [
       "A Jupyter Widget"
      ]
     },
     "metadata": {},
     "output_type": "display_data"
    },
    {
     "name": "stdout",
     "output_type": "stream",
     "text": [
      "\n",
      "Epoch 31 validation is finished.\n",
      "BLEU-1: 0.4663\n",
      "BLEU-2: 0.2519\n",
      "BLEU-3: 0.1499\n",
      "BLEU-4: 0.0936\n",
      "Accuracy: 0.0237\n",
      "The best model is found, resetting early stop counter.\n"
     ]
    },
    {
     "data": {
      "application/vnd.jupyter.widget-view+json": {
       "model_id": "b9f8ee36615343e58721f58f9972f76e",
       "version_major": 2,
       "version_minor": 0
      },
      "text/plain": [
       "A Jupyter Widget"
      ]
     },
     "metadata": {},
     "output_type": "display_data"
    },
    {
     "name": "stdout",
     "output_type": "stream",
     "text": [
      "\n",
      "Epoch 32 training is finished, loss: 1.2095\n"
     ]
    },
    {
     "data": {
      "application/vnd.jupyter.widget-view+json": {
       "model_id": "8ca01e876183404e915074badeb7dfbf",
       "version_major": 2,
       "version_minor": 0
      },
      "text/plain": [
       "A Jupyter Widget"
      ]
     },
     "metadata": {},
     "output_type": "display_data"
    },
    {
     "name": "stdout",
     "output_type": "stream",
     "text": [
      "\n",
      "Epoch 32 validation is finished.\n",
      "BLEU-1: 0.4243\n",
      "BLEU-2: 0.2285\n",
      "BLEU-3: 0.1354\n",
      "BLEU-4: 0.0838\n",
      "Accuracy: 0.0251\n",
      "No improvements for 1 epochs.\n"
     ]
    },
    {
     "data": {
      "application/vnd.jupyter.widget-view+json": {
       "model_id": "48d51d075adb480ea5be391258c97b4c",
       "version_major": 2,
       "version_minor": 0
      },
      "text/plain": [
       "A Jupyter Widget"
      ]
     },
     "metadata": {},
     "output_type": "display_data"
    },
    {
     "name": "stdout",
     "output_type": "stream",
     "text": [
      "\n",
      "Epoch 33 training is finished, loss: 1.1826\n"
     ]
    },
    {
     "data": {
      "application/vnd.jupyter.widget-view+json": {
       "model_id": "2d960b25fb12475dbebd271cb2fe83a2",
       "version_major": 2,
       "version_minor": 0
      },
      "text/plain": [
       "A Jupyter Widget"
      ]
     },
     "metadata": {},
     "output_type": "display_data"
    },
    {
     "name": "stdout",
     "output_type": "stream",
     "text": [
      "\n",
      "Epoch 33 validation is finished.\n",
      "BLEU-1: 0.4217\n",
      "BLEU-2: 0.2265\n",
      "BLEU-3: 0.1337\n",
      "BLEU-4: 0.0819\n",
      "Accuracy: 0.0237\n",
      "No improvements for 2 epochs.\n"
     ]
    },
    {
     "data": {
      "application/vnd.jupyter.widget-view+json": {
       "model_id": "a64a2dd662af4141b94cdc1a52a0d88c",
       "version_major": 2,
       "version_minor": 0
      },
      "text/plain": [
       "A Jupyter Widget"
      ]
     },
     "metadata": {},
     "output_type": "display_data"
    },
    {
     "name": "stdout",
     "output_type": "stream",
     "text": [
      "\n",
      "Epoch 34 training is finished, loss: 1.1618\n"
     ]
    },
    {
     "data": {
      "application/vnd.jupyter.widget-view+json": {
       "model_id": "44d6d7cc51c34f3a97673e5520ab2f2c",
       "version_major": 2,
       "version_minor": 0
      },
      "text/plain": [
       "A Jupyter Widget"
      ]
     },
     "metadata": {},
     "output_type": "display_data"
    },
    {
     "name": "stdout",
     "output_type": "stream",
     "text": [
      "\n",
      "Epoch 34 validation is finished.\n",
      "BLEU-1: 0.4439\n",
      "BLEU-2: 0.2452\n",
      "BLEU-3: 0.1464\n",
      "BLEU-4: 0.0933\n",
      "Accuracy: 0.0265\n",
      "No improvements for 3 epochs.\n"
     ]
    },
    {
     "data": {
      "application/vnd.jupyter.widget-view+json": {
       "model_id": "672a4d6e668f430f9fca00bc56a333e9",
       "version_major": 2,
       "version_minor": 0
      },
      "text/plain": [
       "A Jupyter Widget"
      ]
     },
     "metadata": {},
     "output_type": "display_data"
    },
    {
     "name": "stdout",
     "output_type": "stream",
     "text": [
      "\n",
      "Epoch 35 training is finished, loss: 1.1259\n"
     ]
    },
    {
     "data": {
      "application/vnd.jupyter.widget-view+json": {
       "model_id": "e4a8f45530664722852f1b9644ea25f3",
       "version_major": 2,
       "version_minor": 0
      },
      "text/plain": [
       "A Jupyter Widget"
      ]
     },
     "metadata": {},
     "output_type": "display_data"
    },
    {
     "name": "stdout",
     "output_type": "stream",
     "text": [
      "\n",
      "Epoch 35 validation is finished.\n",
      "BLEU-1: 0.4927\n",
      "BLEU-2: 0.2812\n",
      "BLEU-3: 0.1748\n",
      "BLEU-4: 0.1142\n",
      "Accuracy: 0.0251\n",
      "The best model is found, resetting early stop counter.\n"
     ]
    },
    {
     "data": {
      "application/vnd.jupyter.widget-view+json": {
       "model_id": "3691b6e495b3430391a378fc7d009534",
       "version_major": 2,
       "version_minor": 0
      },
      "text/plain": [
       "A Jupyter Widget"
      ]
     },
     "metadata": {},
     "output_type": "display_data"
    },
    {
     "name": "stdout",
     "output_type": "stream",
     "text": [
      "\n",
      "Epoch 36 training is finished, loss: 1.0804\n"
     ]
    },
    {
     "data": {
      "application/vnd.jupyter.widget-view+json": {
       "model_id": "d677d678da994475b3c3929ebf3ac835",
       "version_major": 2,
       "version_minor": 0
      },
      "text/plain": [
       "A Jupyter Widget"
      ]
     },
     "metadata": {},
     "output_type": "display_data"
    },
    {
     "name": "stdout",
     "output_type": "stream",
     "text": [
      "\n",
      "Epoch 36 validation is finished.\n",
      "BLEU-1: 0.4925\n",
      "BLEU-2: 0.2785\n",
      "BLEU-3: 0.1721\n",
      "BLEU-4: 0.1140\n",
      "Accuracy: 0.0265\n",
      "No improvements for 1 epochs.\n"
     ]
    },
    {
     "data": {
      "application/vnd.jupyter.widget-view+json": {
       "model_id": "c4c7ced494b047a68361c1800b61c5f8",
       "version_major": 2,
       "version_minor": 0
      },
      "text/plain": [
       "A Jupyter Widget"
      ]
     },
     "metadata": {},
     "output_type": "display_data"
    },
    {
     "name": "stdout",
     "output_type": "stream",
     "text": [
      "\n",
      "Epoch 37 training is finished, loss: 1.0416\n"
     ]
    },
    {
     "data": {
      "application/vnd.jupyter.widget-view+json": {
       "model_id": "8833932bcdec46899a8d3030e31041ae",
       "version_major": 2,
       "version_minor": 0
      },
      "text/plain": [
       "A Jupyter Widget"
      ]
     },
     "metadata": {},
     "output_type": "display_data"
    },
    {
     "name": "stdout",
     "output_type": "stream",
     "text": [
      "\n",
      "Epoch 37 validation is finished.\n",
      "BLEU-1: 0.4875\n",
      "BLEU-2: 0.2734\n",
      "BLEU-3: 0.1672\n",
      "BLEU-4: 0.1084\n",
      "Accuracy: 0.0251\n",
      "No improvements for 2 epochs.\n"
     ]
    },
    {
     "data": {
      "application/vnd.jupyter.widget-view+json": {
       "model_id": "d0725c3ccf12404b8eb40d1d1cfd973d",
       "version_major": 2,
       "version_minor": 0
      },
      "text/plain": [
       "A Jupyter Widget"
      ]
     },
     "metadata": {},
     "output_type": "display_data"
    },
    {
     "name": "stdout",
     "output_type": "stream",
     "text": [
      "\n",
      "Epoch 38 training is finished, loss: 1.0069\n"
     ]
    },
    {
     "data": {
      "application/vnd.jupyter.widget-view+json": {
       "model_id": "b58aa76497f94e53b06811a94f34a2aa",
       "version_major": 2,
       "version_minor": 0
      },
      "text/plain": [
       "A Jupyter Widget"
      ]
     },
     "metadata": {},
     "output_type": "display_data"
    },
    {
     "name": "stdout",
     "output_type": "stream",
     "text": [
      "\n",
      "Epoch 38 validation is finished.\n",
      "BLEU-1: 0.4663\n",
      "BLEU-2: 0.2611\n",
      "BLEU-3: 0.1597\n",
      "BLEU-4: 0.1030\n",
      "Accuracy: 0.0265\n",
      "No improvements for 3 epochs.\n"
     ]
    },
    {
     "data": {
      "application/vnd.jupyter.widget-view+json": {
       "model_id": "75b0b9ff3f2840499f2f733989eaaf16",
       "version_major": 2,
       "version_minor": 0
      },
      "text/plain": [
       "A Jupyter Widget"
      ]
     },
     "metadata": {},
     "output_type": "display_data"
    },
    {
     "name": "stdout",
     "output_type": "stream",
     "text": [
      "\n",
      "Epoch 39 training is finished, loss: 0.9747\n"
     ]
    },
    {
     "data": {
      "application/vnd.jupyter.widget-view+json": {
       "model_id": "dbb3d34efc46477ca110f9019fde5627",
       "version_major": 2,
       "version_minor": 0
      },
      "text/plain": [
       "A Jupyter Widget"
      ]
     },
     "metadata": {},
     "output_type": "display_data"
    },
    {
     "name": "stdout",
     "output_type": "stream",
     "text": [
      "\n",
      "Epoch 39 validation is finished.\n",
      "BLEU-1: 0.4665\n",
      "BLEU-2: 0.2611\n",
      "BLEU-3: 0.1605\n",
      "BLEU-4: 0.1039\n",
      "Accuracy: 0.0265\n",
      "No improvements for 4 epochs.\n"
     ]
    },
    {
     "data": {
      "application/vnd.jupyter.widget-view+json": {
       "model_id": "bff3fa4159604c0c96d6cc32cb2b8182",
       "version_major": 2,
       "version_minor": 0
      },
      "text/plain": [
       "A Jupyter Widget"
      ]
     },
     "metadata": {},
     "output_type": "display_data"
    },
    {
     "name": "stdout",
     "output_type": "stream",
     "text": [
      "\n",
      "Epoch 40 training is finished, loss: 0.9443\n"
     ]
    },
    {
     "data": {
      "application/vnd.jupyter.widget-view+json": {
       "model_id": "ee73be133cd74880988b2d3f8fa31e02",
       "version_major": 2,
       "version_minor": 0
      },
      "text/plain": [
       "A Jupyter Widget"
      ]
     },
     "metadata": {},
     "output_type": "display_data"
    },
    {
     "name": "stdout",
     "output_type": "stream",
     "text": [
      "\n",
      "Epoch 40 validation is finished.\n",
      "BLEU-1: 0.4871\n",
      "BLEU-2: 0.2736\n",
      "BLEU-3: 0.1695\n",
      "BLEU-4: 0.1112\n",
      "Accuracy: 0.0279\n",
      "No improvements for 5 epochs.\n"
     ]
    },
    {
     "data": {
      "application/vnd.jupyter.widget-view+json": {
       "model_id": "b8341ebefc8242ab850a1ef913637aca",
       "version_major": 2,
       "version_minor": 0
      },
      "text/plain": [
       "A Jupyter Widget"
      ]
     },
     "metadata": {},
     "output_type": "display_data"
    },
    {
     "name": "stdout",
     "output_type": "stream",
     "text": [
      "\n",
      "Epoch 41 training is finished, loss: 0.9154\n"
     ]
    },
    {
     "data": {
      "application/vnd.jupyter.widget-view+json": {
       "model_id": "d8648918dee643bf8bbe05b33aecd32c",
       "version_major": 2,
       "version_minor": 0
      },
      "text/plain": [
       "A Jupyter Widget"
      ]
     },
     "metadata": {},
     "output_type": "display_data"
    },
    {
     "name": "stdout",
     "output_type": "stream",
     "text": [
      "\n",
      "Epoch 41 validation is finished.\n",
      "BLEU-1: 0.4897\n",
      "BLEU-2: 0.2790\n",
      "BLEU-3: 0.1759\n",
      "BLEU-4: 0.1160\n",
      "Accuracy: 0.0320\n",
      "No improvements for 6 epochs.\n"
     ]
    },
    {
     "data": {
      "application/vnd.jupyter.widget-view+json": {
       "model_id": "721252aaebb64581b515de67a98ebf9b",
       "version_major": 2,
       "version_minor": 0
      },
      "text/plain": [
       "A Jupyter Widget"
      ]
     },
     "metadata": {},
     "output_type": "display_data"
    },
    {
     "name": "stdout",
     "output_type": "stream",
     "text": [
      "\n",
      "Epoch 42 training is finished, loss: 0.8876\n"
     ]
    },
    {
     "data": {
      "application/vnd.jupyter.widget-view+json": {
       "model_id": "f3f2eabe074a4920944ad58657de4ea5",
       "version_major": 2,
       "version_minor": 0
      },
      "text/plain": [
       "A Jupyter Widget"
      ]
     },
     "metadata": {},
     "output_type": "display_data"
    },
    {
     "name": "stdout",
     "output_type": "stream",
     "text": [
      "\n",
      "Epoch 42 validation is finished.\n",
      "BLEU-1: 0.4708\n",
      "BLEU-2: 0.2701\n",
      "BLEU-3: 0.1717\n",
      "BLEU-4: 0.1156\n",
      "Accuracy: 0.0390\n",
      "No improvements for 7 epochs.\n"
     ]
    },
    {
     "data": {
      "application/vnd.jupyter.widget-view+json": {
       "model_id": "63fcc3833dbd4087944ade01579591de",
       "version_major": 2,
       "version_minor": 0
      },
      "text/plain": [
       "A Jupyter Widget"
      ]
     },
     "metadata": {},
     "output_type": "display_data"
    },
    {
     "name": "stdout",
     "output_type": "stream",
     "text": [
      "\n",
      "Epoch 43 training is finished, loss: 0.8605\n"
     ]
    },
    {
     "data": {
      "application/vnd.jupyter.widget-view+json": {
       "model_id": "1dafb83c94cb453184b673bfff3dfaa0",
       "version_major": 2,
       "version_minor": 0
      },
      "text/plain": [
       "A Jupyter Widget"
      ]
     },
     "metadata": {},
     "output_type": "display_data"
    },
    {
     "name": "stdout",
     "output_type": "stream",
     "text": [
      "\n",
      "Epoch 43 validation is finished.\n",
      "BLEU-1: 0.4765\n",
      "BLEU-2: 0.2752\n",
      "BLEU-3: 0.1766\n",
      "BLEU-4: 0.1208\n",
      "Accuracy: 0.0404\n",
      "No improvements for 8 epochs.\n"
     ]
    },
    {
     "data": {
      "application/vnd.jupyter.widget-view+json": {
       "model_id": "73565e65595944f5ab92a5ea2a5d088d",
       "version_major": 2,
       "version_minor": 0
      },
      "text/plain": [
       "A Jupyter Widget"
      ]
     },
     "metadata": {},
     "output_type": "display_data"
    },
    {
     "name": "stdout",
     "output_type": "stream",
     "text": [
      "\n",
      "Epoch 44 training is finished, loss: 0.8340\n"
     ]
    },
    {
     "data": {
      "application/vnd.jupyter.widget-view+json": {
       "model_id": "a2f1dfcfd34446eaa298ec59d75705d9",
       "version_major": 2,
       "version_minor": 0
      },
      "text/plain": [
       "A Jupyter Widget"
      ]
     },
     "metadata": {},
     "output_type": "display_data"
    },
    {
     "name": "stdout",
     "output_type": "stream",
     "text": [
      "\n",
      "Epoch 44 validation is finished.\n",
      "BLEU-1: 0.4687\n",
      "BLEU-2: 0.2709\n",
      "BLEU-3: 0.1741\n",
      "BLEU-4: 0.1194\n",
      "Accuracy: 0.0404\n",
      "No improvements for 9 epochs.\n"
     ]
    },
    {
     "data": {
      "application/vnd.jupyter.widget-view+json": {
       "model_id": "fb8c8893fc6d4683a372ededbb03f531",
       "version_major": 2,
       "version_minor": 0
      },
      "text/plain": [
       "A Jupyter Widget"
      ]
     },
     "metadata": {},
     "output_type": "display_data"
    },
    {
     "name": "stdout",
     "output_type": "stream",
     "text": [
      "\n",
      "Epoch 45 training is finished, loss: 0.8080\n"
     ]
    },
    {
     "data": {
      "application/vnd.jupyter.widget-view+json": {
       "model_id": "40213658d078428799c9ababec2accfe",
       "version_major": 2,
       "version_minor": 0
      },
      "text/plain": [
       "A Jupyter Widget"
      ]
     },
     "metadata": {},
     "output_type": "display_data"
    },
    {
     "name": "stdout",
     "output_type": "stream",
     "text": [
      "\n",
      "Epoch 45 validation is finished.\n",
      "BLEU-1: 0.4683\n",
      "BLEU-2: 0.2692\n",
      "BLEU-3: 0.1720\n",
      "BLEU-4: 0.1190\n",
      "Accuracy: 0.0432\n",
      "No improvements for 10 epochs.\n",
      "Early stop!\n"
     ]
    }
   ],
   "source": [
    "from tqdm import tqdm_notebook as tqdm\n",
    "\n",
    "BATCH_SIZE = 100\n",
    "total_batches = int(len(x_training)/BATCH_SIZE) + 1\n",
    "indices = list(range(len(x_training)))\n",
    "            \n",
    "early_stop_after = 10\n",
    "early_stop_counter = 0\n",
    "best_model = None\n",
    "\n",
    "best_score = 0.0\n",
    "scoring_metric = 'BLEU-1'\n",
    "scores_history = []\n",
    "loss_history = []\n",
    "\n",
    "for epoch in range(10000):\n",
    "    # Training\n",
    "    total_loss = 0.0\n",
    "    for step, batch in tqdm(enumerate(batch_generator(indices, BATCH_SIZE)), \n",
    "                            desc='Training epoch {}'.format(epoch+1), \n",
    "                            total=total_batches):\n",
    "        x = x_training[batch, :] \n",
    "        # y for teacher forcing is all sequence without a last element \n",
    "        y_tf = y_training[batch, :-1] \n",
    "        # y for loss calculation is all sequence without a last element \n",
    "        y_true = y_training[batch, 1:]\n",
    "        # (batch_size, vocab_size, seq_length)\n",
    "        H = model.forward_train(x, y_tf)\n",
    "        loss = cross_entropy(H, y_true)\n",
    "        \n",
    "        assert loss.item() > 0\n",
    "        \n",
    "        optim.zero_grad()\n",
    "        loss.backward()\n",
    "        optim.step()\n",
    "        \n",
    "        total_loss += loss.item()\n",
    "        \n",
    "    loss_history.append(total_loss/total_batches)\n",
    "    print('Epoch {} training is finished, loss: {:.4f}'.format(epoch+1, total_loss/total_batches))\n",
    "    \n",
    "    desc = 'Validating epoch {}'.format(epoch+1)\n",
    "    scores = score(model, x_development, dev_target, desc=desc)\n",
    "    scores_str = '\\n'.join(['{}: {:.4f}'.format(name, score) for name, score in scores.items()])\n",
    "    scores_history.append(scores)\n",
    "    \n",
    "    print ('Epoch {} validation is finished.\\n{}'.format(\n",
    "        epoch+1, scores_str\n",
    "    ))\n",
    "    \n",
    "    metric = scores[scoring_metric]\n",
    "\n",
    "    # Early Stop\n",
    "    if metric > best_score:\n",
    "        early_stop_counter = 0\n",
    "        print('The best model is found, resetting early stop counter.')\n",
    "        best_score = metric\n",
    "        best_model = model\n",
    "    else:\n",
    "        early_stop_counter += 1\n",
    "        print('No improvements for {} epochs.'.format(early_stop_counter))\n",
    "        if early_stop_counter >= early_stop_after:\n",
    "            print('Early stop!')\n",
    "            break"
   ]
  },
  {
   "cell_type": "markdown",
   "metadata": {},
   "source": [
    "I prepared some plots to get **a visual understanding** of how a validation score changed during training."
   ]
  },
  {
   "cell_type": "code",
   "execution_count": 17,
   "metadata": {},
   "outputs": [
    {
     "data": {
      "image/png": "[encoded data removed]",
      "text/plain": [
       "<Figure size 1440x1280 with 6 Axes>"
      ]
     },
     "metadata": {},
     "output_type": "display_data"
    }
   ],
   "source": [
    "import matplotlib.pyplot as plt\n",
    "%matplotlib inline\n",
    "\n",
    "nrows = 3\n",
    "ncols = 2\n",
    "\n",
    "fig, ax = plt.subplots(nrows, ncols, sharex=True, figsize=(18, 16), dpi= 80,)\n",
    "\n",
    "epochs = list(range(1, epoch+2))\n",
    "epochs_ticks = list(range(1, epoch+2, 2))\n",
    "\n",
    "i = 0\n",
    "j = 0\n",
    "\n",
    "ax[i][j].plot(epochs, loss_history, color='dodgerblue')\n",
    "ax[i][j].set_title('Loss history')\n",
    "ax[i][j].set_xlabel('Epochs')\n",
    "ax[i][j].set_xticks(epochs_ticks)\n",
    "ax[i][j].set_ylabel('Loss')\n",
    "\n",
    "for name in score_functions.keys():\n",
    "    j += 1\n",
    "    if j >= ncols:\n",
    "        j = 0\n",
    "        i += 1\n",
    "    score_history = [s[name] for s in scores_history]\n",
    "    ax[i][j].plot(epochs, score_history, color='darkorange')\n",
    "    ax[i][j].set_title('Score history: {}'.format(name))\n",
    "    ax[i][j].set_xlabel('Epochs')\n",
    "    ax[i][j].set_xticks(epochs_ticks)\n",
    "    ax[i][j].set_ylabel('Score')\n",
    "\n",
    "plt.show()"
   ]
  },
  {
   "cell_type": "markdown",
   "metadata": {},
   "source": [
    "Here are some examples of translation from my model."
   ]
  },
  {
   "cell_type": "code",
   "execution_count": 28,
   "metadata": {},
   "outputs": [
    {
     "name": "stdout",
     "output_type": "stream",
     "text": [
      "Source: \"їм потрібний том .\"\n",
      "References:\n",
      "sie wollen tom .\n",
      "Translation: \"tom hat angst .\"\n",
      "\n",
      "Source: \"бог існує ?\"\n",
      "References:\n",
      "gibt es gott ?\n",
      "Translation: \"ist die wurdest ?\"\n",
      "\n",
      "Source: \"він написав листа .\"\n",
      "References:\n",
      "er hat einen brief geschrieben .\n",
      "er schrieb einen brief .\n",
      "Translation: \"er hat einen brief geschrieben .\"\n",
      "\n",
      "Source: \"я не говорю німецькою .\"\n",
      "References:\n",
      "ich spreche kein deutsch .\n",
      "ich spreche nicht deutsch .\n",
      "Translation: \"ich spreche kein deutsch .\"\n",
      "\n",
      "Source: \"у вас є татуювання ?\"\n",
      "References:\n",
      "haben sie eine tätowierung ?\n",
      "Translation: \"haben sie ein bisschen ?\"\n",
      "\n",
      "Source: \"це копія .\"\n",
      "References:\n",
      "das ist eine kopie .\n",
      "Translation: \"es ist eine langweilig .\"\n",
      "\n",
      "Source: \"у мене є брат - близнюк .\"\n",
      "References:\n",
      "ich habe einen zwillingsbruder .\n",
      "Translation: \"ich habe eine familie .\"\n",
      "\n",
      "Source: \"мені подобається світло свічок .\"\n",
      "References:\n",
      "ich mag kerzenlicht .\n",
      "Translation: \"ich sehe gern ein neues .\"\n",
      "\n",
      "Source: \"мають право .\"\n",
      "References:\n",
      "es ist ihr recht .\n",
      "Translation: \"das gesetz ist ein .\"\n",
      "\n",
      "Source: \"перепрошую , скільки це коштує ?\"\n",
      "References:\n",
      "verzeihung , was kostet das ?\n",
      "Translation: \"wie geht es , das haben das ist ?\"\n",
      "\n"
     ]
    },
    {
     "name": "stderr",
     "output_type": "stream",
     "text": [
      "/Users/anatolii.stehnii/anaconda3/lib/python3.6/site-packages/ipykernel_launcher.py:54: UserWarning: Implicit dimension choice for softmax has been deprecated. Change the call to include dim=X as an argument.\n"
     ]
    }
   ],
   "source": [
    "examples = zip(dev_source[:10], dev_target[:10], x_development[:10])\n",
    "for source, target, x in examples:\n",
    "    y = model(x.unsqueeze(0))\n",
    "    translation = ' '.join(target_vocab.unidex_words(y[1:-1]))\n",
    "    source = ' '.join(source)\n",
    "    references = '\\n'.join([' '.join(t) for t in target])\n",
    "    \n",
    "    print('Source: \"{}\"\\nReferences:\\n{}\\nTranslation: \"{}\"\\n'.format(source, references, translation))"
   ]
  },
  {
   "cell_type": "markdown",
   "metadata": {},
   "source": [
    "Finally, each experiment should be evaluated with *unseen data*. When I selected `best_model` according to the best validation score, I made **the model slightly overfit on validation data**; therefore, to get a fair quality assessment I scored `best_model` on the test set."
   ]
  },
  {
   "cell_type": "code",
   "execution_count": 18,
   "metadata": {},
   "outputs": [
    {
     "data": {
      "application/vnd.jupyter.widget-view+json": {
       "model_id": "48a2522021f64deebe94cadf807ceb8c",
       "version_major": 2,
       "version_minor": 0
      },
      "text/plain": [
       "A Jupyter Widget"
      ]
     },
     "metadata": {},
     "output_type": "display_data"
    },
    {
     "name": "stderr",
     "output_type": "stream",
     "text": [
      "/Users/anatolii.stehnii/anaconda3/lib/python3.6/site-packages/ipykernel_launcher.py:54: UserWarning: Implicit dimension choice for softmax has been deprecated. Change the call to include dim=X as an argument.\n"
     ]
    },
    {
     "name": "stdout",
     "output_type": "stream",
     "text": [
      "\n",
      "Final score:\n",
      "BLEU-1: 0.4855\n",
      "BLEU-2: 0.2853\n",
      "BLEU-3: 0.1814\n",
      "BLEU-4: 0.1242\n",
      "Accuracy: 0.0424\n"
     ]
    }
   ],
   "source": [
    "test_scores = score(best_model, x_test, test_target)\n",
    "scores_str = '\\n'.join(['{}: {:.4f}'.format(name, score) for name, score in test_scores.items()])\n",
    "print('Final score:\\n' + scores_str)"
   ]
  },
  {
   "cell_type": "code",
   "execution_count": null,
   "metadata": {
    "collapsed": true
   },
   "outputs": [],
   "source": []
  }
 ],
 "metadata": {
  "kernelspec": {
   "display_name": "Python 3",
   "language": "python",
   "name": "python3"
  },
  "language_info": {
   "codemirror_mode": {
    "name": "ipython",
    "version": 3
   },
   "file_extension": ".py",
   "mimetype": "text/x-python",
   "name": "python",
   "nbconvert_exporter": "python",
   "pygments_lexer": "ipython3",
   "version": "3.6.3"
  }
 },
 "nbformat": 4,
 "nbformat_minor": 2
}
